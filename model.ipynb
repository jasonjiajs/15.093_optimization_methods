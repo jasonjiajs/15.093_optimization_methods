{
 "cells": [
  {
   "cell_type": "code",
   "execution_count": 1,
   "metadata": {},
   "outputs": [],
   "source": [
    "using CSV, DataFrames, JuMP, Gurobi, StatsPlots, Random, Statistics"
   ]
  },
  {
   "cell_type": "markdown",
   "metadata": {},
   "source": [
    "## Load in data"
   ]
  },
  {
   "cell_type": "code",
   "execution_count": 2,
   "metadata": {},
   "outputs": [],
   "source": [
    "# Define sizes\n",
    "#num_suppliers = 200 # i\n",
    "#num_consumer_regions = 7 # j = c(i) \n",
    "#num_time = 10; # t \n",
    "#num_producer_regions = 5 # p(i)\n",
    "\n",
    "# Parameters\n",
    "# alpha\n",
    "# delta"
   ]
  },
  {
   "cell_type": "code",
   "execution_count": 3,
   "metadata": {},
   "outputs": [
    {
     "data": {
      "text/html": [
       "<div><div style = \"float: left;\"><span>5×9 DataFrame</span></div><div style = \"clear: both;\"></div></div><div class = \"data-frame\" style = \"overflow-x: scroll;\"><table class = \"data-frame\" style = \"margin-bottom: 6px;\"><thead><tr class = \"header\"><th class = \"rowNumber\" style = \"font-weight: bold; text-align: right;\">Row</th><th style = \"text-align: left;\">Region</th><th style = \"text-align: left;\">yr_2016_shoes</th><th style = \"text-align: left;\">yr_2017_shoes</th><th style = \"text-align: left;\">yr_2018_shoes</th><th style = \"text-align: left;\">yr_2019_shoes</th><th style = \"text-align: left;\">yr_2020_shoes</th><th style = \"text-align: left;\">yr_2021_shoes</th><th style = \"text-align: left;\">yr_2022_shoes</th><th style = \"text-align: left;\">yr_2023_shoes</th></tr><tr class = \"subheader headerLastRow\"><th class = \"rowNumber\" style = \"font-weight: bold; text-align: right;\"></th><th title = \"String15\" style = \"text-align: left;\">String15</th><th title = \"Int64\" style = \"text-align: left;\">Int64</th><th title = \"Int64\" style = \"text-align: left;\">Int64</th><th title = \"Int64\" style = \"text-align: left;\">Int64</th><th title = \"Int64\" style = \"text-align: left;\">Int64</th><th title = \"Int64\" style = \"text-align: left;\">Int64</th><th title = \"Int64\" style = \"text-align: left;\">Int64</th><th title = \"Int64\" style = \"text-align: left;\">Int64</th><th title = \"Int64\" style = \"text-align: left;\">Int64</th></tr></thead><tbody><tr><td class = \"rowNumber\" style = \"font-weight: bold; text-align: right;\">1</td><td style = \"text-align: left;\">AMERICAS</td><td style = \"text-align: right;\">4898050</td><td style = \"text-align: right;\">5500841</td><td style = \"text-align: right;\">5313444</td><td style = \"text-align: right;\">5454975</td><td style = \"text-align: right;\">6324931</td><td style = \"text-align: right;\">6109370</td><td style = \"text-align: right;\">7043821</td><td style = \"text-align: right;\">4628549</td></tr><tr><td class = \"rowNumber\" style = \"font-weight: bold; text-align: right;\">2</td><td style = \"text-align: left;\">EMEA</td><td style = \"text-align: right;\">727388</td><td style = \"text-align: right;\">816895</td><td style = \"text-align: right;\">789212</td><td style = \"text-align: right;\">810092</td><td style = \"text-align: right;\">939168</td><td style = \"text-align: right;\">907185</td><td style = \"text-align: right;\">1045899</td><td style = \"text-align: right;\">687513</td></tr><tr><td class = \"rowNumber\" style = \"font-weight: bold; text-align: right;\">3</td><td style = \"text-align: left;\">N ASIA</td><td style = \"text-align: right;\">28864415</td><td style = \"text-align: right;\">32415483</td><td style = \"text-align: right;\">31312111</td><td style = \"text-align: right;\">32145270</td><td style = \"text-align: right;\">37273118</td><td style = \"text-align: right;\">36002052</td><td style = \"text-align: right;\">41507653</td><td style = \"text-align: right;\">27275215</td></tr><tr><td class = \"rowNumber\" style = \"font-weight: bold; text-align: right;\">4</td><td style = \"text-align: left;\">S ASIA</td><td style = \"text-align: right;\">76623904</td><td style = \"text-align: right;\">86051270</td><td style = \"text-align: right;\">83122231</td><td style = \"text-align: right;\">85334026</td><td style = \"text-align: right;\">98946691</td><td style = \"text-align: right;\">95572216</td><td style = \"text-align: right;\">110187650</td><td style = \"text-align: right;\">72405283</td></tr><tr><td class = \"rowNumber\" style = \"font-weight: bold; text-align: right;\">5</td><td style = \"text-align: left;\">SE ASIA</td><td style = \"text-align: right;\">100819493</td><td style = \"text-align: right;\">113223358</td><td style = \"text-align: right;\">109369617</td><td style = \"text-align: right;\">112279721</td><td style = \"text-align: right;\">130190750</td><td style = \"text-align: right;\">125750659</td><td style = \"text-align: right;\">144981558</td><td style = \"text-align: right;\">95268541</td></tr></tbody></table></div>"
      ],
      "text/latex": [
       "\\begin{tabular}{r|ccccccc}\n",
       "\t& Region & yr\\_2016\\_shoes & yr\\_2017\\_shoes & yr\\_2018\\_shoes & yr\\_2019\\_shoes & yr\\_2020\\_shoes & \\\\\n",
       "\t\\hline\n",
       "\t& String15 & Int64 & Int64 & Int64 & Int64 & Int64 & \\\\\n",
       "\t\\hline\n",
       "\t1 & AMERICAS & 4898050 & 5500841 & 5313444 & 5454975 & 6324931 & $\\dots$ \\\\\n",
       "\t2 & EMEA & 727388 & 816895 & 789212 & 810092 & 939168 & $\\dots$ \\\\\n",
       "\t3 & N ASIA & 28864415 & 32415483 & 31312111 & 32145270 & 37273118 & $\\dots$ \\\\\n",
       "\t4 & S ASIA & 76623904 & 86051270 & 83122231 & 85334026 & 98946691 & $\\dots$ \\\\\n",
       "\t5 & SE ASIA & 100819493 & 113223358 & 109369617 & 112279721 & 130190750 & $\\dots$ \\\\\n",
       "\\end{tabular}\n"
      ],
      "text/plain": [
       "\u001b[1m5×9 DataFrame\n",
       "\u001b[1m Row │\u001b[1m Region   \u001b[1m yr_2016_shoes \u001b[1m yr_2017_shoes \u001b[1m yr_2018_shoes \u001b[1m yr_2019_shoes \u001b[1m y ⋯\n",
       "     │\u001b[90m String15 \u001b[90m Int64         \u001b[90m Int64         \u001b[90m Int64         \u001b[90m Int64         \u001b[90m I ⋯\n",
       "─────┼──────────────────────────────────────────────────────────────────────────\n",
       "   1 │ AMERICAS        4898050        5500841        5313444        5454975    ⋯\n",
       "   2 │ EMEA             727388         816895         789212         810092\n",
       "   3 │ N ASIA         28864415       32415483       31312111       32145270\n",
       "   4 │ S ASIA         76623904       86051270       83122231       85334026\n",
       "   5 │ SE ASIA       100819493      113223358      109369617      112279721    ⋯\n",
       "\u001b[36m                                                               4 columns omitted"
      ]
     },
     "execution_count": 3,
     "metadata": {},
     "output_type": "execute_result"
    }
   ],
   "source": [
    "availability = CSV.read(\"availability.csv\", DataFrame)\n",
    "col_order = [1, 9, 8, 7, 6, 5, 4, 3, 2]\n",
    "availability = availability[:, col_order]\n",
    "availability = sort(availability, :Region)"
   ]
  },
  {
   "cell_type": "code",
   "execution_count": 4,
   "metadata": {},
   "outputs": [
    {
     "data": {
      "text/html": [
       "<div><div style = \"float: left;\"><span>5×9 DataFrame</span></div><div style = \"clear: both;\"></div></div><div class = \"data-frame\" style = \"overflow-x: scroll;\"><table class = \"data-frame\" style = \"margin-bottom: 6px;\"><thead><tr class = \"header\"><th class = \"rowNumber\" style = \"font-weight: bold; text-align: right;\">Row</th><th style = \"text-align: left;\">Region</th><th style = \"text-align: left;\">2016</th><th style = \"text-align: left;\">2017</th><th style = \"text-align: left;\">2018</th><th style = \"text-align: left;\">2019</th><th style = \"text-align: left;\">2020</th><th style = \"text-align: left;\">2021</th><th style = \"text-align: left;\">2022</th><th style = \"text-align: left;\">2023</th></tr><tr class = \"subheader headerLastRow\"><th class = \"rowNumber\" style = \"font-weight: bold; text-align: right;\"></th><th title = \"String31\" style = \"text-align: left;\">String31</th><th title = \"Float64\" style = \"text-align: left;\">Float64</th><th title = \"Float64\" style = \"text-align: left;\">Float64</th><th title = \"Float64\" style = \"text-align: left;\">Float64</th><th title = \"Float64\" style = \"text-align: left;\">Float64</th><th title = \"Float64\" style = \"text-align: left;\">Float64</th><th title = \"Float64\" style = \"text-align: left;\">Float64</th><th title = \"Float64\" style = \"text-align: left;\">Float64</th><th title = \"Float64\" style = \"text-align: left;\">Float64</th></tr></thead><tbody><tr><td class = \"rowNumber\" style = \"font-weight: bold; text-align: right;\">1</td><td style = \"text-align: left;\">Asia Pacific</td><td style = \"text-align: right;\">1.84351e7</td><td style = \"text-align: right;\">2.06687e7</td><td style = \"text-align: right;\">2.24933e7</td><td style = \"text-align: right;\">2.27891e7</td><td style = \"text-align: right;\">2.17006e7</td><td style = \"text-align: right;\">2.30219e7</td><td style = \"text-align: right;\">2.58658e7</td><td style = \"text-align: right;\">2.85839e7</td></tr><tr><td class = \"rowNumber\" style = \"font-weight: bold; text-align: right;\">2</td><td style = \"text-align: left;\">EMEA</td><td style = \"text-align: right;\">4.32876e7</td><td style = \"text-align: right;\">4.45665e7</td><td style = \"text-align: right;\">5.04292e7</td><td style = \"text-align: right;\">5.40172e7</td><td style = \"text-align: right;\">5.05751e7</td><td style = \"text-align: right;\">5.98283e7</td><td style = \"text-align: right;\">6.34163e7</td><td style = \"text-align: right;\">7.09013e7</td></tr><tr><td class = \"rowNumber\" style = \"font-weight: bold; text-align: right;\">3</td><td style = \"text-align: left;\">Greater China</td><td style = \"text-align: right;\">2.2309e7</td><td style = \"text-align: right;\">2.50644e7</td><td style = \"text-align: right;\">3.00086e7</td><td style = \"text-align: right;\">3.65837e7</td><td style = \"text-align: right;\">3.97854e7</td><td style = \"text-align: right;\">4.93391e7</td><td style = \"text-align: right;\">4.64893e7</td><td style = \"text-align: right;\">4.66524e7</td></tr><tr><td class = \"rowNumber\" style = \"font-weight: bold; text-align: right;\">4</td><td style = \"text-align: left;\">Latin America</td><td style = \"text-align: right;\">6.71511e6</td><td style = \"text-align: right;\">7.52871e6</td><td style = \"text-align: right;\">8.19335e6</td><td style = \"text-align: right;\">8.30106e6</td><td style = \"text-align: right;\">7.90458e6</td><td style = \"text-align: right;\">8.38586e6</td><td style = \"text-align: right;\">9.42178e6</td><td style = \"text-align: right;\">1.04119e7</td></tr><tr><td class = \"rowNumber\" style = \"font-weight: bold; text-align: right;\">5</td><td style = \"text-align: left;\">North America</td><td style = \"text-align: right;\">7.98197e7</td><td style = \"text-align: right;\">8.31245e7</td><td style = \"text-align: right;\">8.00172e7</td><td style = \"text-align: right;\">8.62232e7</td><td style = \"text-align: right;\">8.00773e7</td><td style = \"text-align: right;\">9.99485e7</td><td style = \"text-align: right;\">1.04961e8</td><td style = \"text-align: right;\">1.27871e8</td></tr></tbody></table></div>"
      ],
      "text/latex": [
       "\\begin{tabular}{r|cccccccc}\n",
       "\t& Region & 2016 & 2017 & 2018 & 2019 & 2020 & 2021 & \\\\\n",
       "\t\\hline\n",
       "\t& String31 & Float64 & Float64 & Float64 & Float64 & Float64 & Float64 & \\\\\n",
       "\t\\hline\n",
       "\t1 & Asia Pacific & 1.84351e7 & 2.06687e7 & 2.24933e7 & 2.27891e7 & 2.17006e7 & 2.30219e7 & $\\dots$ \\\\\n",
       "\t2 & EMEA & 4.32876e7 & 4.45665e7 & 5.04292e7 & 5.40172e7 & 5.05751e7 & 5.98283e7 & $\\dots$ \\\\\n",
       "\t3 & Greater China & 2.2309e7 & 2.50644e7 & 3.00086e7 & 3.65837e7 & 3.97854e7 & 4.93391e7 & $\\dots$ \\\\\n",
       "\t4 & Latin America & 6.71511e6 & 7.52871e6 & 8.19335e6 & 8.30106e6 & 7.90458e6 & 8.38586e6 & $\\dots$ \\\\\n",
       "\t5 & North America & 7.98197e7 & 8.31245e7 & 8.00172e7 & 8.62232e7 & 8.00773e7 & 9.99485e7 & $\\dots$ \\\\\n",
       "\\end{tabular}\n"
      ],
      "text/plain": [
       "\u001b[1m5×9 DataFrame\n",
       "\u001b[1m Row │\u001b[1m Region        \u001b[1m 2016      \u001b[1m 2017      \u001b[1m 2018      \u001b[1m 2019      \u001b[1m 2020      \u001b[1m 2 ⋯\n",
       "     │\u001b[90m String31      \u001b[90m Float64   \u001b[90m Float64   \u001b[90m Float64   \u001b[90m Float64   \u001b[90m Float64   \u001b[90m F ⋯\n",
       "─────┼──────────────────────────────────────────────────────────────────────────\n",
       "   1 │ Asia Pacific   1.84351e7  2.06687e7  2.24933e7  2.27891e7  2.17006e7  2 ⋯\n",
       "   2 │ EMEA           4.32876e7  4.45665e7  5.04292e7  5.40172e7  5.05751e7  5\n",
       "   3 │ Greater China  2.2309e7   2.50644e7  3.00086e7  3.65837e7  3.97854e7  4\n",
       "   4 │ Latin America  6.71511e6  7.52871e6  8.19335e6  8.30106e6  7.90458e6  8\n",
       "   5 │ North America  7.98197e7  8.31245e7  8.00172e7  8.62232e7  8.00773e7  9 ⋯\n",
       "\u001b[36m                                                               3 columns omitted"
      ]
     },
     "execution_count": 4,
     "metadata": {},
     "output_type": "execute_result"
    }
   ],
   "source": [
    "demand = CSV.read(\"demand.csv\", DataFrame)\n",
    "replace!(demand.Region, \"Europe, Middle East, and Africa\" => \"EMEA\")\n",
    "demand"
   ]
  },
  {
   "cell_type": "code",
   "execution_count": 5,
   "metadata": {},
   "outputs": [],
   "source": [
    "revenue = CSV.read(\"rev.csv\", DataFrame)\n",
    "replace!(revenue.Region, \"Europe, Middle East, and Africa\" => \"EMEA\")\n",
    "rev_year = []\n",
    "for i in 2:size(revenue)[2]\n",
    "    col_sum = sum(revenue[:, i]) * 1e6\n",
    "    append!(rev_year, col_sum)\n",
    "end\n",
    "rev_year = Array(rev_year);"
   ]
  },
  {
   "cell_type": "code",
   "execution_count": 6,
   "metadata": {},
   "outputs": [
    {
     "data": {
      "text/html": [
       "<div><div style = \"float: left;\"><span>8×2 DataFrame</span></div><div style = \"clear: both;\"></div></div><div class = \"data-frame\" style = \"overflow-x: scroll;\"><table class = \"data-frame\" style = \"margin-bottom: 6px;\"><thead><tr class = \"header\"><th class = \"rowNumber\" style = \"font-weight: bold; text-align: right;\">Row</th><th style = \"text-align: left;\">Year</th><th style = \"text-align: left;\">holding_cost_per_shoe</th></tr><tr class = \"subheader headerLastRow\"><th class = \"rowNumber\" style = \"font-weight: bold; text-align: right;\"></th><th title = \"Int64\" style = \"text-align: left;\">Int64</th><th title = \"Float64\" style = \"text-align: left;\">Float64</th></tr></thead><tbody><tr><td class = \"rowNumber\" style = \"font-weight: bold; text-align: right;\">1</td><td style = \"text-align: right;\">2016</td><td style = \"text-align: right;\">43.92</td></tr><tr><td class = \"rowNumber\" style = \"font-weight: bold; text-align: right;\">2</td><td style = \"text-align: right;\">2017</td><td style = \"text-align: right;\">36.75</td></tr><tr><td class = \"rowNumber\" style = \"font-weight: bold; text-align: right;\">3</td><td style = \"text-align: right;\">2018</td><td style = \"text-align: right;\">30.22</td></tr><tr><td class = \"rowNumber\" style = \"font-weight: bold; text-align: right;\">4</td><td style = \"text-align: right;\">2019</td><td style = \"text-align: right;\">37.57</td></tr><tr><td class = \"rowNumber\" style = \"font-weight: bold; text-align: right;\">5</td><td style = \"text-align: right;\">2020</td><td style = \"text-align: right;\">43.73</td></tr><tr><td class = \"rowNumber\" style = \"font-weight: bold; text-align: right;\">6</td><td style = \"text-align: right;\">2021</td><td style = \"text-align: right;\">35.65</td></tr><tr><td class = \"rowNumber\" style = \"font-weight: bold; text-align: right;\">7</td><td style = \"text-align: right;\">2022</td><td style = \"text-align: right;\">36.63</td></tr><tr><td class = \"rowNumber\" style = \"font-weight: bold; text-align: right;\">8</td><td style = \"text-align: right;\">2023</td><td style = \"text-align: right;\">38.44</td></tr></tbody></table></div>"
      ],
      "text/latex": [
       "\\begin{tabular}{r|cc}\n",
       "\t& Year & holding\\_cost\\_per\\_shoe\\\\\n",
       "\t\\hline\n",
       "\t& Int64 & Float64\\\\\n",
       "\t\\hline\n",
       "\t1 & 2016 & 43.92 \\\\\n",
       "\t2 & 2017 & 36.75 \\\\\n",
       "\t3 & 2018 & 30.22 \\\\\n",
       "\t4 & 2019 & 37.57 \\\\\n",
       "\t5 & 2020 & 43.73 \\\\\n",
       "\t6 & 2021 & 35.65 \\\\\n",
       "\t7 & 2022 & 36.63 \\\\\n",
       "\t8 & 2023 & 38.44 \\\\\n",
       "\\end{tabular}\n"
      ],
      "text/plain": [
       "\u001b[1m8×2 DataFrame\n",
       "\u001b[1m Row │\u001b[1m Year  \u001b[1m holding_cost_per_shoe\n",
       "     │\u001b[90m Int64 \u001b[90m Float64\n",
       "─────┼──────────────────────────────\n",
       "   1 │  2016                  43.92\n",
       "   2 │  2017                  36.75\n",
       "   3 │  2018                  30.22\n",
       "   4 │  2019                  37.57\n",
       "   5 │  2020                  43.73\n",
       "   6 │  2021                  35.65\n",
       "   7 │  2022                  36.63\n",
       "   8 │  2023                  38.44"
      ]
     },
     "execution_count": 6,
     "metadata": {},
     "output_type": "execute_result"
    }
   ],
   "source": [
    "holding_costs = CSV.read(\"inventory_holding_cost.csv\", DataFrame)[:, 2:end]"
   ]
  },
  {
   "cell_type": "code",
   "execution_count": 7,
   "metadata": {},
   "outputs": [],
   "source": [
    "shipping_costs = CSV.read(\"transport_costs.csv\", DataFrame);"
   ]
  },
  {
   "cell_type": "code",
   "execution_count": 8,
   "metadata": {},
   "outputs": [
    {
     "data": {
      "text/html": [
       "<div><div style = \"float: left;\"><span>5×6 DataFrame</span></div><div style = \"clear: both;\"></div></div><div class = \"data-frame\" style = \"overflow-x: scroll;\"><table class = \"data-frame\" style = \"margin-bottom: 6px;\"><thead><tr class = \"header\"><th class = \"rowNumber\" style = \"font-weight: bold; text-align: right;\">Row</th><th style = \"text-align: left;\">producer_region</th><th style = \"text-align: left;\">Asia Pacific</th><th style = \"text-align: left;\">Greater China</th><th style = \"text-align: left;\">EMEA</th><th style = \"text-align: left;\">North America</th><th style = \"text-align: left;\">Latin America</th></tr><tr class = \"subheader headerLastRow\"><th class = \"rowNumber\" style = \"font-weight: bold; text-align: right;\"></th><th title = \"String15\" style = \"text-align: left;\">String15</th><th title = \"Union{Missing, Int64}\" style = \"text-align: left;\">Int64?</th><th title = \"Union{Missing, Int64}\" style = \"text-align: left;\">Int64?</th><th title = \"Union{Missing, Int64}\" style = \"text-align: left;\">Int64?</th><th title = \"Union{Missing, Int64}\" style = \"text-align: left;\">Int64?</th><th title = \"Union{Missing, Int64}\" style = \"text-align: left;\">Int64?</th></tr></thead><tbody><tr><td class = \"rowNumber\" style = \"font-weight: bold; text-align: right;\">1</td><td style = \"text-align: left;\">AMERICAS</td><td style = \"text-align: right;\">1</td><td style = \"text-align: right;\">3</td><td style = \"text-align: right;\">2</td><td style = \"text-align: right;\">5</td><td style = \"text-align: right;\">4</td></tr><tr><td class = \"rowNumber\" style = \"font-weight: bold; text-align: right;\">2</td><td style = \"text-align: left;\">EMEA</td><td style = \"text-align: right;\">6</td><td style = \"text-align: right;\">8</td><td style = \"text-align: right;\">7</td><td style = \"text-align: right;\">10</td><td style = \"text-align: right;\">9</td></tr><tr><td class = \"rowNumber\" style = \"font-weight: bold; text-align: right;\">3</td><td style = \"text-align: left;\">N ASIA</td><td style = \"text-align: right;\">11</td><td style = \"text-align: right;\">13</td><td style = \"text-align: right;\">12</td><td style = \"text-align: right;\">15</td><td style = \"text-align: right;\">14</td></tr><tr><td class = \"rowNumber\" style = \"font-weight: bold; text-align: right;\">4</td><td style = \"text-align: left;\">S ASIA</td><td style = \"text-align: right;\">16</td><td style = \"text-align: right;\">18</td><td style = \"text-align: right;\">17</td><td style = \"text-align: right;\">20</td><td style = \"text-align: right;\">19</td></tr><tr><td class = \"rowNumber\" style = \"font-weight: bold; text-align: right;\">5</td><td style = \"text-align: left;\">SE ASIA</td><td style = \"text-align: right;\">21</td><td style = \"text-align: right;\">23</td><td style = \"text-align: right;\">22</td><td style = \"text-align: right;\">25</td><td style = \"text-align: right;\">24</td></tr></tbody></table></div>"
      ],
      "text/latex": [
       "\\begin{tabular}{r|cccccc}\n",
       "\t& producer\\_region & Asia Pacific & Greater China & EMEA & North America & Latin America\\\\\n",
       "\t\\hline\n",
       "\t& String15 & Int64? & Int64? & Int64? & Int64? & Int64?\\\\\n",
       "\t\\hline\n",
       "\t1 & AMERICAS & 1 & 3 & 2 & 5 & 4 \\\\\n",
       "\t2 & EMEA & 6 & 8 & 7 & 10 & 9 \\\\\n",
       "\t3 & N ASIA & 11 & 13 & 12 & 15 & 14 \\\\\n",
       "\t4 & S ASIA & 16 & 18 & 17 & 20 & 19 \\\\\n",
       "\t5 & SE ASIA & 21 & 23 & 22 & 25 & 24 \\\\\n",
       "\\end{tabular}\n"
      ],
      "text/plain": [
       "\u001b[1m5×6 DataFrame\n",
       "\u001b[1m Row │\u001b[1m producer_region \u001b[1m Asia Pacific \u001b[1m Greater China \u001b[1m EMEA   \u001b[1m North America \u001b[1m La ⋯\n",
       "     │\u001b[90m String15        \u001b[90m Int64?       \u001b[90m Int64?        \u001b[90m Int64? \u001b[90m Int64?        \u001b[90m In ⋯\n",
       "─────┼──────────────────────────────────────────────────────────────────────────\n",
       "   1 │ AMERICAS                    1              3       2              5     ⋯\n",
       "   2 │ EMEA                        6              8       7             10\n",
       "   3 │ N ASIA                     11             13      12             15\n",
       "   4 │ S ASIA                     16             18      17             20\n",
       "   5 │ SE ASIA                    21             23      22             25     ⋯\n",
       "\u001b[36m                                                                1 column omitted"
      ]
     },
     "execution_count": 8,
     "metadata": {},
     "output_type": "execute_result"
    }
   ],
   "source": [
    "shipping_mapping = shipping_costs[:, 1:2]\n",
    "shipping_mapping = sort(shipping_mapping, [:producer_region, :consumer_region], rev=[false, false])\n",
    "shipping_mapping = hcat(DataFrame(Row_Count=1:nrow(shipping_mapping)), shipping_mapping)\n",
    "shipping_mapping = combine(groupby(shipping_mapping, [:producer_region, :consumer_region])) do sub_df\n",
    "    DataFrame(Value_mean = first(sub_df.Row_Count))\n",
    "end\n",
    "shipping_mapping = unstack(shipping_mapping, :consumer_region, :Value_mean)\n",
    "shipping_mapping = sort(shipping_mapping, :producer_region)"
   ]
  },
  {
   "cell_type": "code",
   "execution_count": 9,
   "metadata": {},
   "outputs": [],
   "source": [
    "production_costs = CSV.read(\"cost.csv\", DataFrame)\n",
    "replace!(production_costs.Region, \"Europe, Middle East, and Africa\" => \"EMEA\");"
   ]
  },
  {
   "cell_type": "code",
   "execution_count": 10,
   "metadata": {},
   "outputs": [
    {
     "data": {
      "text/html": [
       "<div><div style = \"float: left;\"><span>5×9 DataFrame</span></div><div style = \"clear: both;\"></div></div><div class = \"data-frame\" style = \"overflow-x: scroll;\"><table class = \"data-frame\" style = \"margin-bottom: 6px;\"><thead><tr class = \"header\"><th class = \"rowNumber\" style = \"font-weight: bold; text-align: right;\">Row</th><th style = \"text-align: left;\">Region</th><th style = \"text-align: left;\">yr_2023_shoes</th><th style = \"text-align: left;\">yr_2022_shoes</th><th style = \"text-align: left;\">yr_2021_shoes</th><th style = \"text-align: left;\">yr_2020_shoes</th><th style = \"text-align: left;\">yr_2019_shoes</th><th style = \"text-align: left;\">yr_2018_shoes</th><th style = \"text-align: left;\">yr_2017_shoes</th><th style = \"text-align: left;\">yr_2016_shoes</th></tr><tr class = \"subheader headerLastRow\"><th class = \"rowNumber\" style = \"font-weight: bold; text-align: right;\"></th><th title = \"String15\" style = \"text-align: left;\">String15</th><th title = \"Float64\" style = \"text-align: left;\">Float64</th><th title = \"Float64\" style = \"text-align: left;\">Float64</th><th title = \"Float64\" style = \"text-align: left;\">Float64</th><th title = \"Float64\" style = \"text-align: left;\">Float64</th><th title = \"Float64\" style = \"text-align: left;\">Float64</th><th title = \"Float64\" style = \"text-align: left;\">Float64</th><th title = \"Float64\" style = \"text-align: left;\">Float64</th><th title = \"Float64\" style = \"text-align: left;\">Float64</th></tr></thead><tbody><tr><td class = \"rowNumber\" style = \"font-weight: bold; text-align: right;\">1</td><td style = \"text-align: left;\">AMERICAS</td><td style = \"text-align: right;\">81.465</td><td style = \"text-align: right;\">38.903</td><td style = \"text-align: right;\">45.4594</td><td style = \"text-align: right;\">38.9553</td><td style = \"text-align: right;\">47.7326</td><td style = \"text-align: right;\">42.1257</td><td style = \"text-align: right;\">45.144</td><td style = \"text-align: right;\">42.5316</td></tr><tr><td class = \"rowNumber\" style = \"font-weight: bold; text-align: right;\">2</td><td style = \"text-align: left;\">EMEA</td><td style = \"text-align: right;\">76.8032</td><td style = \"text-align: right;\">40.0918</td><td style = \"text-align: right;\">46.9997</td><td style = \"text-align: right;\">40.8797</td><td style = \"text-align: right;\">44.1989</td><td style = \"text-align: right;\">37.9323</td><td style = \"text-align: right;\">38.5832</td><td style = \"text-align: right;\">43.1429</td></tr><tr><td class = \"rowNumber\" style = \"font-weight: bold; text-align: right;\">3</td><td style = \"text-align: left;\">N ASIA</td><td style = \"text-align: right;\">70.5533</td><td style = \"text-align: right;\">37.6785</td><td style = \"text-align: right;\">49.5428</td><td style = \"text-align: right;\">38.7469</td><td style = \"text-align: right;\">46.6495</td><td style = \"text-align: right;\">47.2958</td><td style = \"text-align: right;\">42.2007</td><td style = \"text-align: right;\">41.6894</td></tr><tr><td class = \"rowNumber\" style = \"font-weight: bold; text-align: right;\">4</td><td style = \"text-align: left;\">S ASIA</td><td style = \"text-align: right;\">82.0352</td><td style = \"text-align: right;\">39.3142</td><td style = \"text-align: right;\">47.2482</td><td style = \"text-align: right;\">35.5651</td><td style = \"text-align: right;\">42.4247</td><td style = \"text-align: right;\">44.6127</td><td style = \"text-align: right;\">35.3256</td><td style = \"text-align: right;\">39.6973</td></tr><tr><td class = \"rowNumber\" style = \"font-weight: bold; text-align: right;\">5</td><td style = \"text-align: left;\">SE ASIA</td><td style = \"text-align: right;\">75.738</td><td style = \"text-align: right;\">41.2462</td><td style = \"text-align: right;\">48.1081</td><td style = \"text-align: right;\">36.4332</td><td style = \"text-align: right;\">44.048</td><td style = \"text-align: right;\">47.8443</td><td style = \"text-align: right;\">44.7181</td><td style = \"text-align: right;\">40.4575</td></tr></tbody></table></div>"
      ],
      "text/latex": [
       "\\begin{tabular}{r|ccccccc}\n",
       "\t& Region & yr\\_2023\\_shoes & yr\\_2022\\_shoes & yr\\_2021\\_shoes & yr\\_2020\\_shoes & yr\\_2019\\_shoes & \\\\\n",
       "\t\\hline\n",
       "\t& String15 & Float64 & Float64 & Float64 & Float64 & Float64 & \\\\\n",
       "\t\\hline\n",
       "\t1 & AMERICAS & 81.465 & 38.903 & 45.4594 & 38.9553 & 47.7326 & $\\dots$ \\\\\n",
       "\t2 & EMEA & 76.8032 & 40.0918 & 46.9997 & 40.8797 & 44.1989 & $\\dots$ \\\\\n",
       "\t3 & N ASIA & 70.5533 & 37.6785 & 49.5428 & 38.7469 & 46.6495 & $\\dots$ \\\\\n",
       "\t4 & S ASIA & 82.0352 & 39.3142 & 47.2482 & 35.5651 & 42.4247 & $\\dots$ \\\\\n",
       "\t5 & SE ASIA & 75.738 & 41.2462 & 48.1081 & 36.4332 & 44.048 & $\\dots$ \\\\\n",
       "\\end{tabular}\n"
      ],
      "text/plain": [
       "\u001b[1m5×9 DataFrame\n",
       "\u001b[1m Row │\u001b[1m Region   \u001b[1m yr_2023_shoes \u001b[1m yr_2022_shoes \u001b[1m yr_2021_shoes \u001b[1m yr_2020_shoes \u001b[1m y ⋯\n",
       "     │\u001b[90m String15 \u001b[90m Float64       \u001b[90m Float64       \u001b[90m Float64       \u001b[90m Float64       \u001b[90m F ⋯\n",
       "─────┼──────────────────────────────────────────────────────────────────────────\n",
       "   1 │ AMERICAS        81.465         38.903         45.4594        38.9553    ⋯\n",
       "   2 │ EMEA            76.8032        40.0918        46.9997        40.8797\n",
       "   3 │ N ASIA          70.5533        37.6785        49.5428        38.7469\n",
       "   4 │ S ASIA          82.0352        39.3142        47.2482        35.5651\n",
       "   5 │ SE ASIA         75.738         41.2462        48.1081        36.4332    ⋯\n",
       "\u001b[36m                                                               4 columns omitted"
      ]
     },
     "execution_count": 10,
     "metadata": {},
     "output_type": "execute_result"
    }
   ],
   "source": [
    "production_costs"
   ]
  },
  {
   "cell_type": "code",
   "execution_count": 11,
   "metadata": {},
   "outputs": [
    {
     "data": {
      "text/plain": [
       "5"
      ]
     },
     "execution_count": 11,
     "metadata": {},
     "output_type": "execute_result"
    }
   ],
   "source": [
    "# Define sizes\n",
    "num_suppliers = size(availability)[1] #i\n",
    "num_consumer_regions = size(demand)[1] # j = c(i) \n",
    "num_time = size(availability)[2] - 1;  \n",
    "num_producer_regions = size(availability)[1] # p(i)"
   ]
  },
  {
   "cell_type": "markdown",
   "metadata": {},
   "source": [
    "### Set-up"
   ]
  },
  {
   "cell_type": "code",
   "execution_count": 12,
   "metadata": {},
   "outputs": [
    {
     "data": {
      "text/plain": [
       "0:8"
      ]
     },
     "execution_count": 12,
     "metadata": {},
     "output_type": "execute_result"
    }
   ],
   "source": [
    "# Sets\n",
    "suppliers = 1:num_suppliers\n",
    "consumer_regions = 1:num_consumer_regions\n",
    "producer_regions = 1:num_producer_regions\n",
    "years = 1:num_time\n",
    "years_incl_zero = 0:num_time"
   ]
  },
  {
   "cell_type": "code",
   "execution_count": 13,
   "metadata": {},
   "outputs": [],
   "source": [
    "# Parameters and input data\n",
    "A = Matrix(availability[:, 2:end]) #5x8\n",
    "D = Matrix(demand[:, 2:end]) #5x8\n",
    "R = Array(rev_year) #8x1\n",
    "H = Array(holding_costs[:, 2]) #8x1\n",
    "T = Matrix(shipping_costs[:, 6:end]) #25x8\n",
    "W = Matrix(shipping_mapping[:, 2:end]) #encodes the prodcuer/consumer region for T 5x5\n",
    "C = Matrix(production_costs[:, 2:end]); #5x8"
   ]
  },
  {
   "cell_type": "markdown",
   "metadata": {},
   "source": [
    "### Creating the model"
   ]
  },
  {
   "cell_type": "code",
   "execution_count": 61,
   "metadata": {},
   "outputs": [
    {
     "data": {
      "text/plain": [
       "116.5"
      ]
     },
     "execution_count": 61,
     "metadata": {},
     "output_type": "execute_result"
    }
   ],
   "source": [
    "# Define parameters (choose 1 value for now)\n",
    "alpha = 1\n",
    "cost_of_shoes = 116.5"
   ]
  },
  {
   "cell_type": "code",
   "execution_count": 68,
   "metadata": {},
   "outputs": [
    {
     "data": {
      "text/plain": [
       "run_model (generic function with 1 method)"
      ]
     },
     "execution_count": 68,
     "metadata": {},
     "output_type": "execute_result"
    }
   ],
   "source": [
    "function run_model(alpha, suppliers, consumer_regions, producer_regions, years, years_incl_zero, A, D, R, H, T, W, C)\n",
    "    # Initialize model\n",
    "    model = Model(Gurobi.Optimizer);\n",
    "\n",
    "    # Decision variables\n",
    "    # X_{i,t} = quantity of shoes produced by supplier i (in producer region p(i)) at time t\n",
    "    # S_{i,j,t} = quantity of shoes sold to consumer region j at time t, that are produced by supplier i (in producer region p(i))\n",
    "    # E_{i,t} = holding quantity of shoes by supplier i (in producer region p(i)) at time t\n",
    "    # M_{i,t} = marginal cost of getting supplier i to produce shoes at time t\n",
    "    @variable(model, X[suppliers, years_incl_zero] >= 0);\n",
    "    @variable(model, S[suppliers, consumer_regions, years] >= 0);\n",
    "    @variable(model, E[suppliers, years_incl_zero] >= 0);\n",
    "    @variable(model, M[consumer_regions, years] >= 0);\n",
    "\n",
    "\n",
    "    # Objective function\n",
    "    @objective(model, Max, \n",
    "    sum(sum(sum((cost_of_shoes-T[W[i,j],t]) * S[i,j,t] for i in suppliers) for j in consumer_regions) for t in years) \n",
    "    - sum(sum((C[i,t]) * X[i,t] + H[t] * E[i,t] + alpha * cost_of_shoes * M[i,t] for i in suppliers) for t in years))\n",
    "\n",
    "\n",
    "    # Constraints\n",
    "    @constraint(model, initial_production_constraint[i in suppliers], X[i,0] == 0);\n",
    "    @constraint(model, initial_excess_constraint[i in suppliers], E[i,0] == 0);\n",
    "    @constraint(model, production_sold_excess_relationship[i in suppliers, t in years], sum(S[i,j,t] for j in consumer_regions) == X[i,t] + E[i,t-1] - E[i,t]);\n",
    "    @constraint(model, demand_constraint[j in consumer_regions, t in years], sum(S[i,j,t] for i in suppliers) <= D[j,t]);\n",
    "    @constraint(model, supply_production_constraint[i in suppliers, t in years], X[i,t] <= A[i,t]);\n",
    "    @constraint(model, unmet_demand[j in consumer_regions, t in years], M[j,t] == D[j,t] - sum(S[i,j,t] for i in suppliers)); # M[i,t] = max{X[i,t] − X[i,t−1], 0}\n",
    "\n",
    "    #set_optimizer_attribute(model, \"NonConvex\", 2);\n",
    "    optimize!(model);\n",
    "\n",
    "    # Get values\n",
    "    X_values = Matrix(value.(X))\n",
    "    S_values = value.(S)\n",
    "    E_values = Matrix(value.(E))\n",
    "    M_values = Matrix(value.(M))\n",
    "\n",
    "    return model, X_values, S_values, E_values, M_values\n",
    "end"
   ]
  },
  {
   "cell_type": "code",
   "execution_count": 70,
   "metadata": {},
   "outputs": [
    {
     "name": "stdout",
     "output_type": "stream",
     "text": [
      "Set parameter Username\n",
      "Academic license - for non-commercial use only - expires 2024-08-22\n",
      "Set parameter NonConvex to value 2\n",
      "Set parameter NonConvex to value 2\n",
      "Gurobi Optimizer version 10.0.2 build v10.0.2rc0 (mac64[arm])\n",
      "\n",
      "CPU model: Apple M2\n",
      "Thread count: 8 physical cores, 8 logical processors, using up to 8 threads\n",
      "\n",
      "Optimize a model with 170 rows, 330 columns and 810 nonzeros\n",
      "Model fingerprint: 0x99bcd7d3\n",
      "Coefficient statistics:\n",
      "  Matrix range     [1e+00, 1e+00]\n",
      "  Objective range  [3e+01, 1e+02]\n",
      "  Bounds range     [0e+00, 0e+00]\n",
      "  RHS range        [6e+05, 1e+08]\n",
      "Presolve removed 50 rows and 10 columns\n",
      "Presolve time: 0.00s\n",
      "Presolved: 120 rows, 320 columns, 755 nonzeros\n",
      "\n",
      "Iteration    Objective       Primal Inf.    Dual Inf.      Time\n",
      "       0    1.1819580e+35   3.840000e+32   1.181958e+05      0s\n",
      "     141    1.1050097e+11   0.000000e+00   0.000000e+00      0s\n",
      "\n",
      "Solved in 141 iterations and 0.00 seconds (0.00 work units)\n",
      "Optimal objective  1.105009716e+11\n",
      "\n",
      "User-callback calls 185, time in user-callback 0.00 sec\n"
     ]
    }
   ],
   "source": [
    "model_simple, X_values_simple, S_values_simple, E_values_simple, M_values_simple = run_model(0.5, suppliers, consumer_regions, producer_regions, years, years_incl_zero, A, D, R, H, T, W, C);"
   ]
  },
  {
   "cell_type": "code",
   "execution_count": 74,
   "metadata": {},
   "outputs": [
    {
     "name": "stdout",
     "output_type": "stream",
     "text": [
      "Net profit: 1.1050097157426952e11\n",
      "Holding cost: 8.66399627543e9\n"
     ]
    }
   ],
   "source": [
    "net_profit_simple = objective_value(model_simple)\n",
    "holding_cost_simple = sum(H[t]*sum(E_values_simple[i,t] for i in suppliers) for t in years)\n",
    "# sales_profit = net_profit + holding_cost\n",
    "\n",
    "println(\"Net profit: \", net_profit_simple)\n",
    "# println(\"Sales profit: \", sales_profit)\n",
    "println(\"Holding cost: \", holding_cost_simple)"
   ]
  },
  {
   "cell_type": "code",
   "execution_count": 18,
   "metadata": {},
   "outputs": [],
   "source": [
    "# Plot graphs\n",
    "\n",
    "# Total costs over t\n",
    "# Region\n",
    "\n",
    "# Holding quantity over t\n",
    "\n",
    "# Herfindalhs over t\n"
   ]
  },
  {
   "cell_type": "code",
   "execution_count": 19,
   "metadata": {},
   "outputs": [],
   "source": [
    "# Plot graphs across alphas\n",
    "# Ave Holding quantity over t\n",
    "# Ave Herfindalhs over t\n"
   ]
  },
  {
   "cell_type": "markdown",
   "metadata": {},
   "source": [
    "## Impose Integrality"
   ]
  },
  {
   "cell_type": "code",
   "execution_count": 71,
   "metadata": {},
   "outputs": [
    {
     "data": {
      "text/plain": [
       "run_model_integer (generic function with 1 method)"
      ]
     },
     "execution_count": 71,
     "metadata": {},
     "output_type": "execute_result"
    }
   ],
   "source": [
    "function run_model_integer(alpha, suppliers, consumer_regions, producer_regions, years, years_incl_zero, A, D, R, H, T, W, C)\n",
    "    # Initialize model\n",
    "    model = Model(Gurobi.Optimizer);\n",
    "\n",
    "    # Decision variables\n",
    "    # X_{i,t} = quantity of shoes produced by supplier i (in producer region p(i)) at time t\n",
    "    # S_{i,j,t} = quantity of shoes sold to consumer region j at time t, that are produced by supplier i (in producer region p(i))\n",
    "    # E_{i,t} = holding quantity of shoes by supplier i (in producer region p(i)) at time t\n",
    "    # M_{i,t} = marginal cost of getting supplier i to produce shoes at time t\n",
    "    @variable(model, X[suppliers, years_incl_zero] >= 0, Int);\n",
    "    @variable(model, S[suppliers, consumer_regions, years] >= 0, Int);\n",
    "    @variable(model, E[suppliers, years_incl_zero] >= 0,  Int);\n",
    "    @variable(model, M[consumer_regions, years] >= 0,  Int);\n",
    "\n",
    "\n",
    "    # Objective function\n",
    "    @objective(model, Max, \n",
    "    sum(sum(sum((cost_of_shoes-T[W[i,j],t]) * S[i,j,t] for i in suppliers) for j in consumer_regions) for t in years) \n",
    "    - sum(sum((C[i,t]) * X[i,t] + H[t] * E[i,t] + alpha * cost_of_shoes * M[i,t] for i in suppliers) for t in years))\n",
    "\n",
    "\n",
    "    # Constraints\n",
    "    @constraint(model, initial_production_constraint[i in suppliers], X[i,0] == 0);\n",
    "    @constraint(model, initial_excess_constraint[i in suppliers], E[i,0] == 0);\n",
    "    @constraint(model, production_sold_excess_relationship[i in suppliers, t in years], sum(S[i,j,t] for j in consumer_regions) == X[i,t] + E[i,t-1] - E[i,t]);\n",
    "    @constraint(model, demand_constraint[j in consumer_regions, t in years], sum(S[i,j,t] for i in suppliers) <= D[j,t]);\n",
    "    @constraint(model, supply_production_constraint[i in suppliers, t in years], X[i,t] <= A[i,t]);\n",
    "    @constraint(model, unmet_demand[j in consumer_regions, t in years], M[j,t] == D[j,t] - sum(S[i,j,t] for i in suppliers)); # M[i,t] = max{X[i,t] − X[i,t−1], 0}\n",
    "\n",
    "\n",
    "    #set_optimizer_attribute(model, \"NonConvex\", 2);\n",
    "    optimize!(model);\n",
    "\n",
    "    \n",
    "\n",
    "    # Get values\n",
    "    X_values = Matrix(value.(X))\n",
    "    S_values = value.(S)\n",
    "    E_values = Matrix(value.(E))\n",
    "    M_values = Matrix(value.(M))\n",
    "\n",
    "    return model, X_values, S_values, E_values, M_values\n",
    "end"
   ]
  },
  {
   "cell_type": "code",
   "execution_count": 82,
   "metadata": {},
   "outputs": [
    {
     "name": "stdout",
     "output_type": "stream",
     "text": [
      "Set parameter Username\n",
      "Academic license - for non-commercial use only - expires 2024-08-22\n",
      "Gurobi Optimizer version 10.0.2 build v10.0.2rc0 (mac64[arm])\n",
      "\n",
      "CPU model: Apple M2\n",
      "Thread count: 8 physical cores, 8 logical processors, using up to 8 threads\n",
      "\n",
      "Optimize a model with 170 rows, 330 columns and 810 nonzeros\n",
      "Model fingerprint: 0x15efd7ef\n",
      "Variable types: 0 continuous, 330 integer (0 binary)\n",
      "Coefficient statistics:\n",
      "  Matrix range     [1e+00, 1e+00]\n",
      "  Objective range  [3e+01, 1e+02]\n",
      "  Bounds range     [0e+00, 0e+00]\n",
      "  RHS range        [6e+05, 1e+08]\n",
      "Found heuristic solution: objective -1.00523e+11\n",
      "Presolve removed 90 rows and 60 columns\n",
      "Presolve time: 0.00s\n",
      "Presolved: 80 rows, 270 columns, 505 nonzeros\n",
      "Variable types: 0 continuous, 270 integer (0 binary)\n",
      "Found heuristic solution: objective -8.40810e+10\n",
      "\n",
      "Root relaxation: objective 1.105010e+11, 110 iterations, 0.00 seconds (0.00 work units)\n",
      "\n",
      "    Nodes    |    Current Node    |     Objective Bounds      |     Work\n",
      " Expl Unexpl |  Obj  Depth IntInf | Incumbent    BestBd   Gap | It/Node Time\n",
      "\n",
      "*    0     0               0    1.105010e+11 1.1050e+11 -0.00%     -    0s\n",
      "\n",
      "Explored 1 nodes (110 simplex iterations) in 0.00 seconds (0.00 work units)\n",
      "Thread count was 8 (of 8 available processors)\n",
      "\n",
      "Solution count 3: 1.10501e+11 -8.4081e+10 -1.00523e+11 \n",
      "\n",
      "Optimal solution found (tolerance 1.00e-04)\n",
      "Best objective 1.105009715743e+11, best bound 1.105009715743e+11, gap 0.0000%\n",
      "\n",
      "User-callback calls 221, time in user-callback 0.00 sec\n"
     ]
    }
   ],
   "source": [
    "model_integer, X_values_integer, S_values_integer, E_values_integer, M_values_integer = run_model_integer(0.5, suppliers, consumer_regions, producer_regions, years, years_incl_zero, A, D, R, H, T, W, C);"
   ]
  },
  {
   "cell_type": "code",
   "execution_count": 85,
   "metadata": {},
   "outputs": [
    {
     "name": "stdout",
     "output_type": "stream",
     "text": [
      "Net profit: 1.1050097157426952e11\n",
      "Holding cost: 8.66399627543e9\n"
     ]
    }
   ],
   "source": [
    "net_profit_integer = objective_value(model_integer)\n",
    "holding_cost_integer = sum(H[t]*sum(E_values_integer[i,t] for i in suppliers) for t in years)\n",
    "# sales_profit = net_profit + holding_cost\n",
    "\n",
    "println(\"Net profit: \", net_profit_integer)\n",
    "# println(\"Sales profit: \", sales_profit)\n",
    "println(\"Holding cost: \", holding_cost_integer)"
   ]
  },
  {
   "cell_type": "code",
   "execution_count": 23,
   "metadata": {},
   "outputs": [
    {
     "data": {
      "text/plain": [
       "5×8 Matrix{Float64}:\n",
       " 81.465   38.903   45.4594  38.9553  47.7326  42.1257  45.144   42.5316\n",
       " 76.8032  40.0918  46.9997  40.8797  44.1989  37.9323  38.5832  43.1429\n",
       " 70.5533  37.6785  49.5428  38.7469  46.6495  47.2958  42.2007  41.6894\n",
       " 82.0352  39.3142  47.2482  35.5651  42.4247  44.6127  35.3256  39.6973\n",
       " 75.738   41.2462  48.1081  36.4332  44.048   47.8443  44.7181  40.4575"
      ]
     },
     "execution_count": 23,
     "metadata": {},
     "output_type": "execute_result"
    }
   ],
   "source": [
    "C"
   ]
  },
  {
   "cell_type": "markdown",
   "metadata": {},
   "source": [
    "#### Uncertainty in Demand\n",
    "Define uncertainty based on underlying shoe prices"
   ]
  },
  {
   "cell_type": "code",
   "execution_count": 24,
   "metadata": {},
   "outputs": [
    {
     "data": {
      "text/plain": [
       "111.0"
      ]
     },
     "execution_count": 24,
     "metadata": {},
     "output_type": "execute_result"
    }
   ],
   "source": [
    "#Get Array of Sample Averages:\n",
    "price_list = [115, 115, 115, 115, 120, 105, 125, 160, 90, 105]\n",
    "avg_price = mean(price_list)\n",
    "price_list_abs_dif = abs.(avg_price .- price_list)\n",
    "sum(price_list_abs_dif)"
   ]
  },
  {
   "cell_type": "code",
   "execution_count": 25,
   "metadata": {},
   "outputs": [
    {
     "data": {
      "text/plain": [
       "3.92003171416309e7"
      ]
     },
     "execution_count": 25,
     "metadata": {},
     "output_type": "execute_result"
    }
   ],
   "source": [
    "2*(D[2,1]/avg_price * sum(price_list_abs_dif)) - D[2,1]"
   ]
  },
  {
   "cell_type": "code",
   "execution_count": 94,
   "metadata": {},
   "outputs": [
    {
     "data": {
      "text/plain": [
       "run_model_integer_uncertainty (generic function with 1 method)"
      ]
     },
     "execution_count": 94,
     "metadata": {},
     "output_type": "execute_result"
    }
   ],
   "source": [
    "function run_model_integer_uncertainty(alpha, suppliers, consumer_regions, producer_regions, years, years_incl_zero, A, D, R, H, T, W, C)\n",
    "    # Initialize model\n",
    "    model = Model(Gurobi.Optimizer);\n",
    "\n",
    "    # Decision variables\n",
    "    # X_{i,t} = quantity of shoes produced by supplier i (in producer region p(i)) at time t\n",
    "    # S_{i,j,t} = quantity of shoes sold to consumer region j at time t, that are produced by supplier i (in producer region p(i))\n",
    "    # E_{i,t} = holding quantity of shoes by supplier i (in producer region p(i)) at time t\n",
    "    # M_{i,t} = marginal cost of getting supplier i to produce shoes at time t\n",
    "    @variable(model, X[suppliers, years_incl_zero] >= 0, Int);\n",
    "    @variable(model, S[suppliers, consumer_regions, years] >= 0, Int);\n",
    "    @variable(model, E[suppliers, years_incl_zero] >= 0,  Int);\n",
    "    @variable(model, M[consumer_regions, years] >= 0,  Int);\n",
    "    # Define uncertain parameters\n",
    "\n",
    "\n",
    "\n",
    "    # Objective function\n",
    "    @objective(model, Max, \n",
    "    sum(sum(sum((cost_of_shoes-T[W[i,j],t]) * S[i,j,t] for i in suppliers) for j in consumer_regions) for t in years) \n",
    "    - sum(sum((C[i,t]) * X[i,t] + H[t] * E[i,t] + alpha * cost_of_shoes * M[i,t] for i in suppliers) for t in years))\n",
    "\n",
    "    # Constraints\n",
    "    @constraint(model, initial_production_constraint[i in suppliers], X[i,0] == 0);\n",
    "    @constraint(model, initial_excess_constraint[i in suppliers], E[i,0] == 0);\n",
    "    @constraint(model, production_sold_excess_relationship[i in suppliers, t in years], sum(S[i,j,t] for j in consumer_regions) == X[i,t] + E[i,t-1] - E[i,t]);\n",
    "    @constraint(model, time_in_inventory[i in suppliers, t in years], sum(S[i,j,t] for j in consumer_regions) >= E[i,t-1]); #goods can't be in inventory more than 1 year\n",
    "    @constraint(model, demand_constraint[j in consumer_regions, t in years], sum(S[i,j,t] for i in suppliers) <= 2*(D[j,t]/avg_price * sum(price_list_abs_dif)) - D[j,t]);\n",
    "    @constraint(model, supply_production_constraint[i in suppliers, t in years], X[i,t] <= A[i,t]);\n",
    "    @constraint(model, unmet_demand[j in consumer_regions, t in years], M[j,t] == D[j,t] - sum(S[i,j,t] for i in suppliers)); # M[i,t] = max{X[i,t] − X[i,t−1], 0}\n",
    "\n",
    "    \n",
    "    #set_optimizer_attribute(model, \"NonConvex\", 2);\n",
    "    optimize!(model);\n",
    "\n",
    "    # Get values\n",
    "    X_values = Matrix(value.(X))\n",
    "    S_values = value.(S)\n",
    "    E_values = Matrix(value.(E))\n",
    "    M_values = Matrix(value.(M))\n",
    "\n",
    "    return model, X_values, S_values, E_values, M_values\n",
    "end"
   ]
  },
  {
   "cell_type": "code",
   "execution_count": 95,
   "metadata": {},
   "outputs": [
    {
     "name": "stdout",
     "output_type": "stream",
     "text": [
      "Set parameter Username\n",
      "Academic license - for non-commercial use only - expires 2024-08-22\n",
      "Gurobi Optimizer version 10.0.2 build v10.0.2rc0 (mac64[arm])\n",
      "\n",
      "CPU model: Apple M2\n",
      "Thread count: 8 physical cores, 8 logical processors, using up to 8 threads\n",
      "\n",
      "Optimize a model with 210 rows, 330 columns and 1050 nonzeros\n",
      "Model fingerprint: 0x58050304\n",
      "Variable types: 0 continuous, 330 integer (0 binary)\n",
      "Coefficient statistics:\n",
      "  Matrix range     [1e+00, 1e+00]\n",
      "  Objective range  [3e+01, 1e+02]\n",
      "  Bounds range     [0e+00, 0e+00]\n",
      "  RHS range        [6e+05, 1e+08]\n",
      "Found heuristic solution: objective -1.00523e+11\n",
      "Presolve removed 95 rows and 60 columns\n",
      "Presolve time: 0.00s\n",
      "Presolved: 115 rows, 270 columns, 715 nonzeros\n",
      "Variable types: 0 continuous, 270 integer (0 binary)\n",
      "Found heuristic solution: objective -8.56672e+10\n",
      "\n",
      "Root relaxation: objective 9.602212e+10, 110 iterations, 0.00 seconds (0.00 work units)\n",
      "\n",
      "    Nodes    |    Current Node    |     Objective Bounds      |     Work\n",
      " Expl Unexpl |  Obj  Depth IntInf | Incumbent    BestBd   Gap | It/Node Time\n",
      "\n",
      "*    0     0               0    9.602212e+10 9.6022e+10 -0.00%     -    0s\n",
      "\n",
      "Explored 1 nodes (110 simplex iterations) in 0.00 seconds (0.00 work units)\n",
      "Thread count was 8 (of 8 available processors)\n",
      "\n",
      "Solution count 3: 9.60221e+10 -8.56672e+10 -1.00523e+11 \n",
      "\n",
      "Optimal solution found (tolerance 1.00e-04)\n",
      "Best objective 9.602212494747e+10, best bound 9.602212494747e+10, gap 0.0000%\n",
      "\n",
      "User-callback calls 235, time in user-callback 0.00 sec\n"
     ]
    }
   ],
   "source": [
    "model_uncertainty, X_values_uncertainty, S_values_uncertainty, E_values_uncertainty, M_values_uncertainty = run_model_integer_uncertainty(0.5, suppliers, consumer_regions, producer_regions, years, years_incl_zero, A, D, R, H, T, W, C);"
   ]
  },
  {
   "cell_type": "code",
   "execution_count": 96,
   "metadata": {},
   "outputs": [
    {
     "name": "stdout",
     "output_type": "stream",
     "text": [
      "Net profit: 9.602212494747112e10\n",
      "Holding cost: 3.86479251152e9\n"
     ]
    }
   ],
   "source": [
    "net_profit_uncertainty = objective_value(model_uncertainty)\n",
    "holding_cost_uncertainty = sum(H[t]*sum(E_values_uncertainty[i,t] for i in suppliers) for t in years)\n",
    "# sales_profit = net_profit + holding_cost\n",
    "\n",
    "println(\"Net profit: \", net_profit_uncertainty)\n",
    "# println(\"Sales profit: \", sales_profit)\n",
    "println(\"Holding cost: \", holding_cost_uncertainty)"
   ]
  },
  {
   "cell_type": "markdown",
   "metadata": {},
   "source": [
    "## Compare Models"
   ]
  },
  {
   "cell_type": "code",
   "execution_count": 97,
   "metadata": {},
   "outputs": [
    {
     "data": {
      "text/html": [
       "<div><div style = \"float: left;\"><span>3×3 DataFrame</span></div><div style = \"clear: both;\"></div></div><div class = \"data-frame\" style = \"overflow-x: scroll;\"><table class = \"data-frame\" style = \"margin-bottom: 6px;\"><thead><tr class = \"header\"><th class = \"rowNumber\" style = \"font-weight: bold; text-align: right;\">Row</th><th style = \"text-align: left;\">Model</th><th style = \"text-align: left;\">NetProfit</th><th style = \"text-align: left;\">HoldingCost</th></tr><tr class = \"subheader headerLastRow\"><th class = \"rowNumber\" style = \"font-weight: bold; text-align: right;\"></th><th title = \"String\" style = \"text-align: left;\">String</th><th title = \"Float64\" style = \"text-align: left;\">Float64</th><th title = \"Float64\" style = \"text-align: left;\">Float64</th></tr></thead><tbody><tr><td class = \"rowNumber\" style = \"font-weight: bold; text-align: right;\">1</td><td style = \"text-align: left;\">Simple</td><td style = \"text-align: right;\">1.10501e11</td><td style = \"text-align: right;\">8.664e9</td></tr><tr><td class = \"rowNumber\" style = \"font-weight: bold; text-align: right;\">2</td><td style = \"text-align: left;\">Integer Solution</td><td style = \"text-align: right;\">1.10501e11</td><td style = \"text-align: right;\">8.664e9</td></tr><tr><td class = \"rowNumber\" style = \"font-weight: bold; text-align: right;\">3</td><td style = \"text-align: left;\">Integer + Uncertainty in Demand</td><td style = \"text-align: right;\">9.60221e10</td><td style = \"text-align: right;\">3.86479e9</td></tr></tbody></table></div>"
      ],
      "text/latex": [
       "\\begin{tabular}{r|ccc}\n",
       "\t& Model & NetProfit & HoldingCost\\\\\n",
       "\t\\hline\n",
       "\t& String & Float64 & Float64\\\\\n",
       "\t\\hline\n",
       "\t1 & Simple & 1.10501e11 & 8.664e9 \\\\\n",
       "\t2 & Integer Solution & 1.10501e11 & 8.664e9 \\\\\n",
       "\t3 & Integer + Uncertainty in Demand & 9.60221e10 & 3.86479e9 \\\\\n",
       "\\end{tabular}\n"
      ],
      "text/plain": [
       "\u001b[1m3×3 DataFrame\n",
       "\u001b[1m Row │\u001b[1m Model                           \u001b[1m NetProfit  \u001b[1m HoldingCost\n",
       "     │\u001b[90m String                          \u001b[90m Float64    \u001b[90m Float64\n",
       "─────┼──────────────────────────────────────────────────────────\n",
       "   1 │ Simple                           1.10501e11    8.664e9\n",
       "   2 │ Integer Solution                 1.10501e11    8.664e9\n",
       "   3 │ Integer + Uncertainty in Demand  9.60221e10    3.86479e9"
      ]
     },
     "execution_count": 97,
     "metadata": {},
     "output_type": "execute_result"
    }
   ],
   "source": [
    "#Outputs\n",
    "models = [\"Simple\", \"Integer Solution\", \"Integer + Uncertainty in Demand\"]\n",
    "net_profit = [net_profit_simple, net_profit_integer, net_profit_uncertainty]\n",
    "holding_cost = [holding_cost_simple, holding_cost_integer, holding_cost_uncertainty]\n",
    "output = DataFrame(Model = models, NetProfit = net_profit, HoldingCost = holding_cost)"
   ]
  },
  {
   "cell_type": "code",
   "execution_count": 98,
   "metadata": {},
   "outputs": [
    {
     "data": {
      "text/plain": [
       "5×8 Matrix{Float64}:\n",
       "      4.89805e6       5.50084e6  …       6.30152e6       4.25517e6\n",
       " 727388.0        816895.0           961527.0        635770.0\n",
       "      2.88644e7       3.24155e7          3.83837e7       2.33168e7\n",
       "      3.52572e7       8.60513e7          9.41964e7       6.66096e7\n",
       "      1.00819e8       5.61683e7          1.33376e8       9.1662e7"
      ]
     },
     "execution_count": 98,
     "metadata": {},
     "output_type": "execute_result"
    }
   ],
   "source": [
    "X_values_simple[:,2:end]"
   ]
  },
  {
   "cell_type": "code",
   "execution_count": 89,
   "metadata": {},
   "outputs": [
    {
     "data": {
      "text/plain": [
       "5×8 Matrix{Float64}:\n",
       "      4.89805e6       5.50084e6  …       6.30152e6       4.25517e6\n",
       " 727388.0        816895.0           961527.0        635770.0\n",
       "      2.88644e7       3.24155e7          3.83837e7       2.33168e7\n",
       "      3.52572e7       8.60513e7          9.41964e7       6.66096e7\n",
       "      1.00819e8       5.61683e7          1.33376e8       9.1662e7"
      ]
     },
     "execution_count": 89,
     "metadata": {},
     "output_type": "execute_result"
    }
   ],
   "source": [
    "X_values_integer[:,2:end]"
   ]
  },
  {
   "cell_type": "code",
   "execution_count": 90,
   "metadata": {},
   "outputs": [
    {
     "data": {
      "text/plain": [
       "5×8 Matrix{Float64}:\n",
       "      4.89805e6       5.50084e6  …       6.30152e6       4.25517e6\n",
       " 727388.0        816895.0           961527.0        635770.0\n",
       "      2.88644e7       3.24155e7          3.83837e7       2.33168e7\n",
       "      1.91522e7       8.60513e7          9.41964e7       6.66096e7\n",
       "      1.00819e8       3.90826e7          1.33376e8       9.1662e7"
      ]
     },
     "execution_count": 90,
     "metadata": {},
     "output_type": "execute_result"
    }
   ],
   "source": [
    "X_values_uncertainty[:,2:end]"
   ]
  },
  {
   "cell_type": "markdown",
   "metadata": {},
   "source": [
    "## Add Supply Chain Shocks for 2021-2023\n",
    "Reduce availability by a random number between 0-0.25"
   ]
  },
  {
   "cell_type": "code",
   "execution_count": 33,
   "metadata": {},
   "outputs": [
    {
     "data": {
      "text/plain": [
       "5×8 Matrix{Int64}:\n",
       "   4898050    5500841    5313444  …    5737011    6301519   4255168\n",
       "    727388     816895     789212        811583     961527    635770\n",
       "  28864415   32415483   31312111      33097796   38383735  23316833\n",
       "  76623904   86051270   83122231      88379332   94196400  66609553\n",
       " 100819493  113223358  109369617     107500789  133376412  91662033"
      ]
     },
     "execution_count": 33,
     "metadata": {},
     "output_type": "execute_result"
    }
   ],
   "source": [
    "A_shock = A\n",
    "for i in 1:5\n",
    "    for j in 6:8\n",
    "        Random.seed!(i+j)\n",
    "        A_shock[i,j] = round(A_shock[i,j] * (1 - rand()/4))\n",
    "    end\n",
    "end\n",
    "A_shock"
   ]
  },
  {
   "cell_type": "markdown",
   "metadata": {},
   "source": [
    "Model 2016-2020 with original data"
   ]
  },
  {
   "cell_type": "code",
   "execution_count": 34,
   "metadata": {},
   "outputs": [
    {
     "name": "stdout",
     "output_type": "stream",
     "text": [
      "Set parameter Username\n",
      "Academic license - for non-commercial use only - expires 2024-08-22\n",
      "Gurobi Optimizer version 10.0.2 build v10.0.2rc0 (mac64[arm])\n",
      "\n",
      "CPU model: Apple M2\n",
      "Thread count: 8 physical cores, 8 logical processors, using up to 8 threads\n",
      "\n",
      "Optimize a model with 110 rows, 210 columns and 510 nonzeros\n",
      "Model fingerprint: 0x830e414d\n",
      "Model has 25 quadratic objective terms\n",
      "Variable types: 25 continuous, 185 integer (0 binary)\n",
      "Coefficient statistics:\n",
      "  Matrix range     [1e+00, 1e+00]\n",
      "  Objective range  [3e+01, 1e+02]\n",
      "  QObjective range [2e+00, 2e+00]\n",
      "  Bounds range     [0e+00, 0e+00]\n",
      "  RHS range        [7e+05, 1e+08]\n",
      "Found heuristic solution: objective -0.0000000\n",
      "Presolve removed 40 rows and 45 columns\n",
      "Presolve time: 0.00s\n",
      "Presolved: 70 rows, 165 columns, 430 nonzeros\n",
      "Variable types: 0 continuous, 165 integer (0 binary)\n",
      "Found heuristic solution: objective 5.858368e+09\n",
      "\n",
      "Root relaxation: objective 5.879566e+10, 68 iterations, 0.00 seconds (0.00 work units)\n",
      "\n",
      "    Nodes    |    Current Node    |     Objective Bounds      |     Work\n",
      " Expl Unexpl |  Obj  Depth IntInf | Incumbent    BestBd   Gap | It/Node Time\n",
      "\n",
      "*    0     0               0    5.879566e+10 5.8796e+10 -0.00%     -    0s\n",
      "\n",
      "Explored 1 nodes (68 simplex iterations) in 0.00 seconds (0.00 work units)\n",
      "Thread count was 8 (of 8 available processors)\n",
      "\n",
      "Solution count 3: 5.87957e+10 5.85837e+09 -0 \n",
      "\n",
      "Optimal solution found (tolerance 1.00e-04)\n",
      "Best objective 5.879565518231e+10, best bound 5.879565518231e+10, gap 0.0000%\n",
      "\n",
      "User-callback calls 258, time in user-callback 0.00 sec\n"
     ]
    }
   ],
   "source": [
    "model_preshock, X_values_preshock, S_values_preshock, E_values_preshock, M_values_preshock = run_model_integer_uncertainty(1, \n",
    "    suppliers, consumer_regions, producer_regions, 1:5, 0:5, A[:, 1:5], D[:, 1:5], R[1:5], H[1:5], T[:, 1:5], W, C[:, 1:5]);"
   ]
  },
  {
   "cell_type": "code",
   "execution_count": 35,
   "metadata": {},
   "outputs": [
    {
     "name": "stdout",
     "output_type": "stream",
     "text": [
      "Net profit: 5.879565518231283e10\n",
      "Holding cost: 0.0\n"
     ]
    }
   ],
   "source": [
    "net_profit_preshock = objective_value(model_preshock)\n",
    "holding_cost_preshock = sum(H[t]*sum(E_values_preshock[i,t] for i in suppliers) for t in 1:5)\n",
    "# sales_profit = net_profit + holding_cost\n",
    "\n",
    "println(\"Net profit: \", net_profit_preshock)\n",
    "# println(\"Sales profit: \", sales_profit)\n",
    "println(\"Holding cost: \", holding_cost_preshock)"
   ]
  },
  {
   "cell_type": "markdown",
   "metadata": {},
   "source": [
    "Model 2021-2023 with Supply Chain Shock"
   ]
  },
  {
   "cell_type": "code",
   "execution_count": 36,
   "metadata": {},
   "outputs": [
    {
     "data": {
      "text/plain": [
       "run_model_shock (generic function with 1 method)"
      ]
     },
     "execution_count": 36,
     "metadata": {},
     "output_type": "execute_result"
    }
   ],
   "source": [
    "function run_model_shock(alpha, suppliers, consumer_regions, producer_regions, years, years_incl_zero, A, D, R, H, T, W, C)\n",
    "    # Initialize model\n",
    "    model = Model(Gurobi.Optimizer);\n",
    "\n",
    "    # Decision variables\n",
    "    # X_{i,t} = quantity of shoes produced by supplier i (in producer region p(i)) at time t\n",
    "    # S_{i,j,t} = quantity of shoes sold to consumer region j at time t, that are produced by supplier i (in producer region p(i))\n",
    "    # E_{i,t} = holding quantity of shoes by supplier i (in producer region p(i)) at time t\n",
    "    # M_{i,t} = marginal cost of getting supplier i to produce shoes at time t\n",
    "    @variable(model, X[suppliers, years_incl_zero] >= 0, Int);\n",
    "    @variable(model, S[suppliers, consumer_regions, years] >= 0, Int);\n",
    "    @variable(model, E[suppliers, years_incl_zero] >= 0,  Int);\n",
    "    @variable(model, M[suppliers, years] == 0);\n",
    "    # Define uncertain parameters\n",
    "\n",
    "\n",
    "\n",
    "    # Objective function\n",
    "    @objective(model, Max, \n",
    "    sum(sum(sum((116.5-T[W[i,j],t]) * S[i,j,t] for i in suppliers) for j in consumer_regions) for t in years) \n",
    "    - sum(sum((C[i,t] + alpha * M[i,t]) * X[i,t] + H[t] * E[i,t] for i in suppliers) for t in years))\n",
    "\n",
    "\n",
    "    # Constraints\n",
    "    @constraint(model, initial_production_constraint[i in suppliers], X[i,5] == X_values_preshock[i, 5]);\n",
    "    @constraint(model, initial_excess_constraint[i in suppliers], E[i,5] == E_values_preshock[i, 5]);\n",
    "    @constraint(model, production_sold_excess_relationship[i in suppliers, t in years], sum(S[i,j,t] for j in consumer_regions) == X[i,t] + E[i,t-1] - E[i,t]);\n",
    "    @constraint(model, time_in_inventory[i in suppliers, t in years], sum(S[i,j,t] for j in consumer_regions) >= E[i,t-1]); #goods can't be in inventory more than 1 year\n",
    "    @constraint(model, demand_constraint[j in consumer_regions, t in years], sum(S[i,j,t] for i in suppliers) <= 2*(D[j,t]/avg_price * sum(price_list_abs_dif)) - D[j,t]);\n",
    "    @constraint(model, supply_production_constraint[i in suppliers, t in years], X[i,t] <= A[i,t]);\n",
    "    #@constraint(model, marginal_cost_constraint[i in suppliers, t in years], M[i,t] >= X[i,t] - X[i,t-1]); # M[i,t] = max{X[i,t] − X[i,t−1], 0}\n",
    "\n",
    "    \n",
    "    #set_optimizer_attribute(model, \"NonConvex\", 2);\n",
    "    optimize!(model);\n",
    "\n",
    "    # Get values\n",
    "    X_values = Matrix(value.(X))\n",
    "    S_values = value.(S)\n",
    "    E_values = Matrix(value.(E))\n",
    "    M_values = Matrix(value.(M))\n",
    "\n",
    "    return model, X_values, S_values, E_values, M_values\n",
    "end"
   ]
  },
  {
   "cell_type": "code",
   "execution_count": 37,
   "metadata": {},
   "outputs": [
    {
     "name": "stdout",
     "output_type": "stream",
     "text": [
      "Set parameter Username\n",
      "Academic license - for non-commercial use only - expires 2024-08-22\n",
      "Gurobi Optimizer version 10.0.2 build v10.0.2rc0 (mac64[arm])\n",
      "\n",
      "CPU model: Apple M2\n",
      "Thread count: 8 physical cores, 8 logical processors, using up to 8 threads\n",
      "\n",
      "Optimize a model with 70 rows, 130 columns and 310 nonzeros\n",
      "Model fingerprint: 0x2cf5b6f6\n",
      "Model has 15 quadratic objective terms\n",
      "Variable types: 15 continuous, 115 integer (0 binary)\n",
      "Coefficient statistics:\n",
      "  Matrix range     [1e+00, 1e+00]\n",
      "  Objective range  [4e+01, 1e+02]\n",
      "  QObjective range [2e+00, 2e+00]\n",
      "  Bounds range     [0e+00, 0e+00]\n",
      "  RHS range        [6e+05, 1e+08]\n",
      "Found heuristic solution: objective -0.0000000\n",
      "Presolve removed 30 rows and 35 columns\n",
      "Presolve time: 0.00s\n",
      "Presolved: 40 rows, 95 columns, 240 nonzeros\n",
      "Variable types: 0 continuous, 95 integer (0 binary)\n",
      "Found heuristic solution: objective 1.464491e+10\n",
      "\n",
      "Root relaxation: objective 4.708917e+10, 35 iterations, 0.00 seconds (0.00 work units)\n",
      "\n",
      "    Nodes    |    Current Node    |     Objective Bounds      |     Work\n",
      " Expl Unexpl |  Obj  Depth IntInf | Incumbent    BestBd   Gap | It/Node Time\n",
      "\n",
      "*    0     0               0    4.708917e+10 4.7089e+10 -0.00%     -    0s\n",
      "\n",
      "Explored 1 nodes (35 simplex iterations) in 0.00 seconds (0.00 work units)\n",
      "Thread count was 8 (of 8 available processors)\n",
      "\n",
      "Solution count 3: 4.70892e+10 1.46449e+10 -0 \n",
      "\n",
      "Optimal solution found (tolerance 1.00e-04)\n",
      "Best objective 4.708917368119e+10, best bound 4.708917368119e+10, gap 0.0000%\n",
      "\n",
      "User-callback calls 258, time in user-callback 0.00 sec\n"
     ]
    }
   ],
   "source": [
    "model_shock, X_values_shock, S_values_shock, E_values_shock, M_values_shock = run_model_shock(1, \n",
    "    suppliers, consumer_regions, producer_regions, 6:8, 5:8, A_shock, D, R, H, T, W, C);"
   ]
  },
  {
   "cell_type": "code",
   "execution_count": 38,
   "metadata": {},
   "outputs": [
    {
     "name": "stdout",
     "output_type": "stream",
     "text": [
      "Net profit: 4.708917368119233e10\n",
      "Holding cost: 1.41081547194e9\n"
     ]
    }
   ],
   "source": [
    "net_profit_shock = objective_value(model_shock)\n",
    "holding_cost_shock = sum(H[t]*sum(E_values_shock[i,t] for i in suppliers) for t in 1:3)\n",
    "# sales_profit = net_profit + jjholding_cost\n",
    "\n",
    "println(\"Net profit: \", net_profit_shock)\n",
    "# println(\"Sales profit: \", sales_profit)\n",
    "println(\"Holding cost: \", holding_cost_shock)"
   ]
  },
  {
   "cell_type": "code",
   "execution_count": 39,
   "metadata": {},
   "outputs": [
    {
     "name": "stdout",
     "output_type": "stream",
     "text": [
      "Net profit: 1.0588482886350516e11\n",
      "Holding cost: 1.41081547194e9\n"
     ]
    }
   ],
   "source": [
    "#Combined Profit\n",
    "net_profit_pre_post = net_profit_shock + net_profit_preshock\n",
    "holding_pre_post = holding_cost_shock + holding_cost_preshock\n",
    "\n",
    "println(\"Net profit: \", net_profit_pre_post)\n",
    "# println(\"Sales profit: \", sales_profit)\n",
    "println(\"Holding cost: \", holding_pre_post)"
   ]
  },
  {
   "cell_type": "markdown",
   "metadata": {},
   "source": [
    "## Code from HW1 (may be useful)"
   ]
  },
  {
   "cell_type": "code",
   "execution_count": 40,
   "metadata": {},
   "outputs": [
    {
     "ename": "LoadError",
     "evalue": "UndefVarError: `X_values` not defined",
     "output_type": "error",
     "traceback": [
      "UndefVarError: `X_values` not defined",
      "",
      "Stacktrace:",
      " [1] top-level scope",
      "   @ In[40]:2"
     ]
    }
   ],
   "source": [
    "# Create a heatmap of (number of units of product i manufactured, week t)  and the \n",
    "heatmap(X_values, axis=true, color=:viridis, c=:auto, size=(800, 600), \n",
    "        xlabel=\"Week\", ylabel=\"Number of units produced\", title=\"Number of units of product i manufactured at week t\")"
   ]
  },
  {
   "cell_type": "code",
   "execution_count": null,
   "metadata": {},
   "outputs": [],
   "source": []
  },
  {
   "cell_type": "code",
   "execution_count": 41,
   "metadata": {},
   "outputs": [
    {
     "ename": "LoadError",
     "evalue": "UndefVarError: `E_values` not defined",
     "output_type": "error",
     "traceback": [
      "UndefVarError: `E_values` not defined",
      "",
      "Stacktrace:",
      " [1] top-level scope",
      "   @ In[41]:2"
     ]
    }
   ],
   "source": [
    "# Create a heatmap of (number of units of product i stored in inventory, week t)\n",
    "heatmap(E_values, axis=true, color=:viridis, c=:auto, size=(800, 600), \n",
    "        xlabel=\"Week\", ylabel=\"Number of units stored in inventory\", title=\"Number of units of product i stored in inventory at week t\")"
   ]
  },
  {
   "cell_type": "markdown",
   "metadata": {},
   "source": [
    "Interpretation: \n",
    "- It makes sense to produce excess units of a product if there is unsatisfied demand some time in the future (that cannot be met by production at any later week), and net profit still exceeds the total holding cost.\n",
    "- From the heatmap of excess units (holdings), we see that few products and weeks have positive holdings. This implies that the above condition is not met most of the time.\n"
   ]
  },
  {
   "cell_type": "markdown",
   "metadata": {},
   "source": [
    "## 3(d)"
   ]
  },
  {
   "cell_type": "code",
   "execution_count": 42,
   "metadata": {},
   "outputs": [
    {
     "ename": "LoadError",
     "evalue": "UndefVarError: `materials` not defined",
     "output_type": "error",
     "traceback": [
      "UndefVarError: `materials` not defined",
      "",
      "Stacktrace:",
      " [1] top-level scope",
      "   @ In[42]:1"
     ]
    }
   ],
   "source": [
    "week30_unused_materials = Vector{Float64}(undef, size(materials,1)) \n",
    "print(\"Materials fully utilized in week 30: \")\n",
    "for j in materials\n",
    "    week30_unused_materials[j] = A[j,30] - sum((R[j,i] * X_values[i,30]) for i in products)\n",
    "    if abs(week30_unused_materials[j]) < 1e-10\n",
    "        week30_unused_materials[j] = 0\n",
    "        print(j, \" \")\n",
    "    end\n",
    "end\n",
    "println(\"\\nNumber of materials fully utilized in week 30 (out of 500): \", count(x -> x == 0, week30_unused_materials))\n",
    "println(\"Number of materials not fully utilized in week 30 (out of 500): \", count(x -> x > 0, week30_unused_materials))"
   ]
  },
  {
   "cell_type": "code",
   "execution_count": 43,
   "metadata": {},
   "outputs": [
    {
     "ename": "LoadError",
     "evalue": "UndefVarError: `X_values` not defined",
     "output_type": "error",
     "traceback": [
      "UndefVarError: `X_values` not defined",
      "",
      "Stacktrace:",
      " [1] top-level scope",
      "   @ In[43]:1"
     ]
    }
   ],
   "source": [
    "week30_sold = X_values[:,30] + E_values[:,29] - E_values[:,30]\n",
    "week30_demand = D[:,30]\n",
    "week30_unfulfilled_demand = week30_demand - week30_sold\n",
    "print(\"Products with demand fully satisfied in week 30: \")\n",
    "for i in products\n",
    "    if abs(week30_unfulfilled_demand[i]) < 1e-10\n",
    "        week30_unfulfilled_demand[i] = 0\n",
    "        print(i, \" \")\n",
    "    end\n",
    "end\n",
    "println(\"\\nNumber of products with demand fully satisfied in week 30 (out of 100): \", count(x -> x == 0, week30_unfulfilled_demand))\n",
    "println(\"Number of products with demand not fully satisfied in week 30 (out of 100): \", count(x -> x > 0, week30_unfulfilled_demand))"
   ]
  },
  {
   "cell_type": "code",
   "execution_count": null,
   "metadata": {},
   "outputs": [],
   "source": []
  }
 ],
 "metadata": {
  "kernelspec": {
   "display_name": "Julia 1.9.2",
   "language": "julia",
   "name": "julia-1.9"
  },
  "language_info": {
   "file_extension": ".jl",
   "mimetype": "application/julia",
   "name": "julia",
   "version": "1.9.2"
  }
 },
 "nbformat": 4,
 "nbformat_minor": 4
}
