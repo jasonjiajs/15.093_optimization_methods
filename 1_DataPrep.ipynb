{
 "cells": [
  {
   "cell_type": "code",
   "execution_count": 1,
   "id": "c8bb7d26-6da5-441a-ad97-e81b296d1474",
   "metadata": {},
   "outputs": [],
   "source": [
    "#Prep Data for Model"
   ]
  },
  {
   "cell_type": "code",
   "execution_count": 2,
   "id": "392a2c88-8c8f-4a82-80a1-1acddc9da00d",
   "metadata": {},
   "outputs": [],
   "source": [
    "import pandas as pd\n",
    "import numpy as np"
   ]
  },
  {
   "cell_type": "markdown",
   "id": "30251245-49d7-456e-850b-f833248e3cdb",
   "metadata": {},
   "source": [
    "## 1. Get Demand Data"
   ]
  },
  {
   "cell_type": "code",
   "execution_count": 3,
   "id": "9bae3ce8-7111-4b6e-9f5c-175b834b90c1",
   "metadata": {},
   "outputs": [],
   "source": [
    "revenue = pd.read_excel('Revenue.xlsx')"
   ]
  },
  {
   "cell_type": "code",
   "execution_count": 4,
   "id": "7f5e4276-f78e-4551-a97d-97f5a547266b",
   "metadata": {},
   "outputs": [
    {
     "name": "stderr",
     "output_type": "stream",
     "text": [
      "/var/folders/56/bfw_b7050wxcy69jmv2db0040000gn/T/ipykernel_50170/2130447476.py:5: SettingWithCopyWarning: \n",
      "A value is trying to be set on a copy of a slice from a DataFrame.\n",
      "Try using .loc[row_indexer,col_indexer] = value instead\n",
      "\n",
      "See the caveats in the documentation: https://pandas.pydata.org/pandas-docs/stable/user_guide/indexing.html#returning-a-view-versus-a-copy\n",
      "  apac_latam['Asia Pacific'] = apac_latam['Revenue ($M)'] * apac_gdp_perc\n",
      "/var/folders/56/bfw_b7050wxcy69jmv2db0040000gn/T/ipykernel_50170/2130447476.py:6: SettingWithCopyWarning: \n",
      "A value is trying to be set on a copy of a slice from a DataFrame.\n",
      "Try using .loc[row_indexer,col_indexer] = value instead\n",
      "\n",
      "See the caveats in the documentation: https://pandas.pydata.org/pandas-docs/stable/user_guide/indexing.html#returning-a-view-versus-a-copy\n",
      "  apac_latam['Latin America'] = apac_latam['Revenue ($M)'] * latam_gdp_perc\n"
     ]
    }
   ],
   "source": [
    "#Split Asia Pacific and Latin America into Separate Regions\n",
    "apac_latam = revenue[revenue['Region'] == 'Asia Pacific & Latin America']\n",
    "apac_gdp_perc = 0.733 #looked up online\n",
    "latam_gdp_perc = 1 - apac_gdp_perc\n",
    "apac_latam['Asia Pacific'] = apac_latam['Revenue ($M)'] * apac_gdp_perc\n",
    "apac_latam['Latin America'] = apac_latam['Revenue ($M)'] * latam_gdp_perc\n",
    "apac_latam = apac_latam.drop(columns = ['Region','Revenue ($M)'])\n",
    "apac_latam = pd.melt(apac_latam, id_vars=['Year', 'Category'], var_name='Region', value_name='Revenue ($M)')"
   ]
  },
  {
   "cell_type": "code",
   "execution_count": 5,
   "id": "c010870b-6bb2-426a-9d1e-f60740d6f63f",
   "metadata": {},
   "outputs": [],
   "source": [
    "#Merge Asia Pacific and Latin America back in\n",
    "revenue = revenue[revenue['Region'] != 'Asia Pacific & Latin America']\n",
    "revenue = pd.concat([revenue, apac_latam], ignore_index=True, axis=0)"
   ]
  },
  {
   "cell_type": "code",
   "execution_count": 6,
   "id": "e662a231-86c4-4f44-a855-3b498a38d825",
   "metadata": {},
   "outputs": [],
   "source": [
    "rev_by_region = revenue.groupby(['Year', 'Region']).sum('Revenue ($M)')\n",
    "rev_by_region = rev_by_region.reset_index()\n",
    "rev_by_region = rev_by_region.rename(columns = {'Revenue ($M)': 'Yr_Region_Total'})"
   ]
  },
  {
   "cell_type": "code",
   "execution_count": 7,
   "id": "f88ece91-64a2-4d48-8501-04025d69999a",
   "metadata": {},
   "outputs": [],
   "source": [
    "rev_by_year = revenue.groupby('Year').sum('Revenue ($M)')\n",
    "rev_by_year = rev_by_year.reset_index()\n",
    "rev_by_year = rev_by_year.rename(columns = {'Revenue ($M)': 'Yr_Total'})"
   ]
  },
  {
   "cell_type": "code",
   "execution_count": 8,
   "id": "bfee7d33-29fa-427f-b26c-fa0ad6c30481",
   "metadata": {},
   "outputs": [],
   "source": [
    "revenue = revenue.merge(rev_by_region,\n",
    "                        how = 'left',\n",
    "                        on = ['Year', 'Region'])\n",
    "revenue = revenue.merge(rev_by_year,\n",
    "                        how = 'left',\n",
    "                        on = 'Year')"
   ]
  },
  {
   "cell_type": "code",
   "execution_count": 9,
   "id": "2cce2aa9-3c90-47fe-b75a-b4fe88adc4f5",
   "metadata": {},
   "outputs": [],
   "source": [
    "revenue = revenue[revenue['Category'] == 'Footwear']\n",
    "revenue['perc_rev_footware'] = revenue['Revenue ($M)']/revenue['Yr_Region_Total']\n",
    "revenue['perc_rev_in_region'] = revenue['Yr_Region_Total']/revenue['Yr_Total']"
   ]
  },
  {
   "cell_type": "code",
   "execution_count": 10,
   "id": "ce0064eb-3751-44c5-8dad-89cbacb18e01",
   "metadata": {},
   "outputs": [],
   "source": [
    "avg_cost_shoes = 116.5 #based on nike website"
   ]
  },
  {
   "cell_type": "code",
   "execution_count": 11,
   "id": "91bdb445-e3c5-4066-a4d3-fa153b25a808",
   "metadata": {},
   "outputs": [],
   "source": [
    "revenue['shoes_made'] = revenue['Revenue ($M)'] * 1e6 / avg_cost_shoes\n",
    "revenue['shoes_made'] = revenue['shoes_made'].round(decimals=0)"
   ]
  },
  {
   "cell_type": "code",
   "execution_count": 12,
   "id": "badc6463-d211-489d-b1c2-36e732de81db",
   "metadata": {},
   "outputs": [],
   "source": [
    "demand = revenue[['Year', 'Region', 'shoes_made']]"
   ]
  },
  {
   "cell_type": "code",
   "execution_count": 13,
   "id": "28e8d3ef-2c9f-430a-8881-7fe4ce4fb6ec",
   "metadata": {},
   "outputs": [],
   "source": [
    "demand = demand.pivot(index='Region', columns='Year', values='shoes_made')"
   ]
  },
  {
   "cell_type": "code",
   "execution_count": 14,
   "id": "4f0095c2-a9ba-4365-a0b3-f0a551df1a56",
   "metadata": {},
   "outputs": [],
   "source": [
    "demand.to_csv('demand.csv')"
   ]
  },
  {
   "cell_type": "code",
   "execution_count": 15,
   "id": "456da190-d676-45ef-832e-d79041afd1fc",
   "metadata": {},
   "outputs": [],
   "source": [
    "#will need for workers\n",
    "shoes_per_year  = demand.sum(axis = 0).to_list()\n",
    "shoes_per_year.reverse()"
   ]
  },
  {
   "cell_type": "code",
   "execution_count": 16,
   "id": "32ebf898-3fe3-4b87-b43a-c0016ae37c17",
   "metadata": {},
   "outputs": [
    {
     "data": {
      "text/plain": [
       "[284420602.0,\n",
       " 250154506.0,\n",
       " 240523606.0,\n",
       " 200042918.0,\n",
       " 207914162.0,\n",
       " 191141632.0,\n",
       " 180952790.0,\n",
       " 170566523.0]"
      ]
     },
     "execution_count": 16,
     "metadata": {},
     "output_type": "execute_result"
    }
   ],
   "source": [
    "shoes_per_year"
   ]
  },
  {
   "cell_type": "code",
   "execution_count": 17,
   "id": "8ba6e63a-511d-4013-a2a1-4aa57ad76e23",
   "metadata": {},
   "outputs": [],
   "source": [
    "rev = revenue[['Year', 'Region', 'Revenue ($M)']]\n",
    "rev = rev.pivot(index='Region', columns='Year', values='Revenue ($M)')\n",
    "rev.to_csv('rev.csv')"
   ]
  },
  {
   "cell_type": "markdown",
   "id": "5ccfdf39-16de-436a-90d8-403e8f4dd7af",
   "metadata": {},
   "source": [
    "## 2. Get Availability"
   ]
  },
  {
   "cell_type": "markdown",
   "id": "be39fc63-1b72-4568-a67b-624ebd40754f",
   "metadata": {},
   "source": [
    "### a. Read in Workers Data (2023)"
   ]
  },
  {
   "cell_type": "code",
   "execution_count": 18,
   "id": "8198e136-b77a-478f-981a-14826a751c13",
   "metadata": {},
   "outputs": [],
   "source": [
    "workers = pd.read_excel('imap_export.xls', skiprows = 1)"
   ]
  },
  {
   "cell_type": "code",
   "execution_count": 19,
   "id": "72defcb7-63ef-490a-af29-60b1622fb602",
   "metadata": {},
   "outputs": [],
   "source": [
    "workers = workers[workers['Product Type Type'] == 'Footwear']\n",
    "wokers = workers[workers['Factory Type'] == 'FINISHED GOODS']\n"
   ]
  },
  {
   "cell_type": "code",
   "execution_count": 20,
   "id": "59e84328-afa1-4759-b6d9-7f1bb0bcba15",
   "metadata": {},
   "outputs": [],
   "source": [
    "workers = workers[['Region', 'Total Workers']].groupby('Region').sum()"
   ]
  },
  {
   "cell_type": "code",
   "execution_count": 21,
   "id": "10b0553e-7651-46f9-b54d-44b12cb78bce",
   "metadata": {},
   "outputs": [
    {
     "data": {
      "text/html": [
       "<div>\n",
       "<style scoped>\n",
       "    .dataframe tbody tr th:only-of-type {\n",
       "        vertical-align: middle;\n",
       "    }\n",
       "\n",
       "    .dataframe tbody tr th {\n",
       "        vertical-align: top;\n",
       "    }\n",
       "\n",
       "    .dataframe thead th {\n",
       "        text-align: right;\n",
       "    }\n",
       "</style>\n",
       "<table border=\"1\" class=\"dataframe\">\n",
       "  <thead>\n",
       "    <tr style=\"text-align: right;\">\n",
       "      <th></th>\n",
       "      <th>Total Workers</th>\n",
       "    </tr>\n",
       "    <tr>\n",
       "      <th>Region</th>\n",
       "      <th></th>\n",
       "    </tr>\n",
       "  </thead>\n",
       "  <tbody>\n",
       "    <tr>\n",
       "      <th>AMERICAS</th>\n",
       "      <td>16925</td>\n",
       "    </tr>\n",
       "    <tr>\n",
       "      <th>EMEA</th>\n",
       "      <td>2514</td>\n",
       "    </tr>\n",
       "    <tr>\n",
       "      <th>N ASIA</th>\n",
       "      <td>99736</td>\n",
       "    </tr>\n",
       "    <tr>\n",
       "      <th>S ASIA</th>\n",
       "      <td>264761</td>\n",
       "    </tr>\n",
       "    <tr>\n",
       "      <th>SE ASIA</th>\n",
       "      <td>348364</td>\n",
       "    </tr>\n",
       "  </tbody>\n",
       "</table>\n",
       "</div>"
      ],
      "text/plain": [
       "          Total Workers\n",
       "Region                 \n",
       "AMERICAS          16925\n",
       "EMEA               2514\n",
       "N ASIA            99736\n",
       "S ASIA           264761\n",
       "SE ASIA          348364"
      ]
     },
     "execution_count": 21,
     "metadata": {},
     "output_type": "execute_result"
    }
   ],
   "source": [
    "workers.head()"
   ]
  },
  {
   "cell_type": "markdown",
   "id": "66525137-0d24-478e-8809-3d0243352055",
   "metadata": {},
   "source": [
    "### b. Prep Rev Data to Estimate Workers Each Year"
   ]
  },
  {
   "cell_type": "code",
   "execution_count": 22,
   "id": "abe9dc1c-8c8c-4627-9335-eb831374e382",
   "metadata": {},
   "outputs": [],
   "source": [
    "rev_by_year['priorYr'] = rev_by_year['Year']-1"
   ]
  },
  {
   "cell_type": "code",
   "execution_count": 23,
   "id": "77337b79-8092-4eb1-8d1b-e490575f2189",
   "metadata": {},
   "outputs": [],
   "source": [
    "rev_by_year = rev_by_year.merge(rev_by_year,\n",
    "                                how = 'left',\n",
    "                                left_on = 'priorYr',\n",
    "                                right_on = 'Year')"
   ]
  },
  {
   "cell_type": "code",
   "execution_count": 24,
   "id": "3fb8ea39-7013-4c53-85ba-263e0fa3ee28",
   "metadata": {},
   "outputs": [],
   "source": [
    "rev_by_year = rev_by_year.drop(columns = ['priorYr_x', 'priorYr_y', 'Year_y'])\n",
    "rev_by_year = rev_by_year.drop(0)\n",
    "rev_by_year = rev_by_year.rename(columns = {'Year_x' : 'Year',\n",
    "                                           'Yr_Total_x': 'Yr_Total',\n",
    "                                           'Yr_Total_y' : 'Prior_Yr_Total'})"
   ]
  },
  {
   "cell_type": "code",
   "execution_count": 25,
   "id": "d907cb9a-3271-4949-9a78-f034c287ade1",
   "metadata": {},
   "outputs": [],
   "source": [
    "rev_by_year['growth'] = (rev_by_year['Yr_Total']- rev_by_year['Prior_Yr_Total'])/rev_by_year['Prior_Yr_Total']"
   ]
  },
  {
   "cell_type": "code",
   "execution_count": 26,
   "id": "8e9630b1-b72e-4ba0-ab1a-bb631a94b434",
   "metadata": {},
   "outputs": [],
   "source": [
    "rev_by_year = rev_by_year.sort_values('Year', ascending = False)"
   ]
  },
  {
   "cell_type": "markdown",
   "id": "2dd1ec1f-0680-4af6-8ce5-5b994f696919",
   "metadata": {},
   "source": [
    "### c. Get Workers Each Year"
   ]
  },
  {
   "cell_type": "code",
   "execution_count": 27,
   "id": "df1b296e-1e93-4241-a9ab-fd3722d7a4a9",
   "metadata": {},
   "outputs": [],
   "source": [
    "workers_per_year = workers"
   ]
  },
  {
   "cell_type": "code",
   "execution_count": 28,
   "id": "2a3801cb-c7b0-494d-a48c-aed8a9ebf452",
   "metadata": {},
   "outputs": [],
   "source": [
    "for i in range(0, 7):\n",
    "    year = rev_by_year['Year'].iloc[i] - 1\n",
    "    col_year = 'yr_' + str(year)\n",
    "    last_column_name = workers_per_year.columns[-1]\n",
    "    growth = rev_by_year['growth'].iloc[i]\n",
    "    workers_per_year[col_year] = workers_per_year[last_column_name] * (1.0 - growth) ** 0.5"
   ]
  },
  {
   "cell_type": "code",
   "execution_count": 29,
   "id": "6fc1460b-15b9-4406-83e4-317a5918ad8e",
   "metadata": {},
   "outputs": [],
   "source": [
    "workers_per_year = workers_per_year.rename(columns = {'Total Workers' : 'yr_2023'})"
   ]
  },
  {
   "cell_type": "code",
   "execution_count": 30,
   "id": "492555e6-2241-4af4-b206-6e22293153df",
   "metadata": {},
   "outputs": [
    {
     "data": {
      "text/html": [
       "<div>\n",
       "<style scoped>\n",
       "    .dataframe tbody tr th:only-of-type {\n",
       "        vertical-align: middle;\n",
       "    }\n",
       "\n",
       "    .dataframe tbody tr th {\n",
       "        vertical-align: top;\n",
       "    }\n",
       "\n",
       "    .dataframe thead th {\n",
       "        text-align: right;\n",
       "    }\n",
       "</style>\n",
       "<table border=\"1\" class=\"dataframe\">\n",
       "  <thead>\n",
       "    <tr style=\"text-align: right;\">\n",
       "      <th></th>\n",
       "      <th>yr_2023</th>\n",
       "      <th>yr_2022</th>\n",
       "      <th>yr_2021</th>\n",
       "      <th>yr_2020</th>\n",
       "      <th>yr_2019</th>\n",
       "      <th>yr_2018</th>\n",
       "      <th>yr_2017</th>\n",
       "      <th>yr_2016</th>\n",
       "    </tr>\n",
       "    <tr>\n",
       "      <th>Region</th>\n",
       "      <th></th>\n",
       "      <th></th>\n",
       "      <th></th>\n",
       "      <th></th>\n",
       "      <th></th>\n",
       "      <th></th>\n",
       "      <th></th>\n",
       "      <th></th>\n",
       "    </tr>\n",
       "  </thead>\n",
       "  <tbody>\n",
       "    <tr>\n",
       "      <th>AMERICAS</th>\n",
       "      <td>16925</td>\n",
       "      <td>16069.015157</td>\n",
       "      <td>15671.379968</td>\n",
       "      <td>14109.684516</td>\n",
       "      <td>14417.175141</td>\n",
       "      <td>13822.515598</td>\n",
       "      <td>13333.115306</td>\n",
       "      <td>12949.517462</td>\n",
       "    </tr>\n",
       "    <tr>\n",
       "      <th>EMEA</th>\n",
       "      <td>2514</td>\n",
       "      <td>2386.854009</td>\n",
       "      <td>2327.790206</td>\n",
       "      <td>2095.819608</td>\n",
       "      <td>2141.493548</td>\n",
       "      <td>2053.164208</td>\n",
       "      <td>1980.469830</td>\n",
       "      <td>1923.491102</td>\n",
       "    </tr>\n",
       "    <tr>\n",
       "      <th>N ASIA</th>\n",
       "      <td>99736</td>\n",
       "      <td>94691.834310</td>\n",
       "      <td>92348.641211</td>\n",
       "      <td>83145.849035</td>\n",
       "      <td>84957.836329</td>\n",
       "      <td>81453.613926</td>\n",
       "      <td>78569.665475</td>\n",
       "      <td>76309.191938</td>\n",
       "    </tr>\n",
       "    <tr>\n",
       "      <th>S ASIA</th>\n",
       "      <td>264761</td>\n",
       "      <td>251370.665995</td>\n",
       "      <td>245150.382969</td>\n",
       "      <td>220720.483439</td>\n",
       "      <td>225530.617875</td>\n",
       "      <td>216228.245334</td>\n",
       "      <td>208572.463311</td>\n",
       "      <td>202571.769138</td>\n",
       "    </tr>\n",
       "    <tr>\n",
       "      <th>SE ASIA</th>\n",
       "      <td>348364</td>\n",
       "      <td>330745.429609</td>\n",
       "      <td>322560.981461</td>\n",
       "      <td>290416.906164</td>\n",
       "      <td>296745.926195</td>\n",
       "      <td>284506.163890</td>\n",
       "      <td>274432.932377</td>\n",
       "      <td>266537.412171</td>\n",
       "    </tr>\n",
       "  </tbody>\n",
       "</table>\n",
       "</div>"
      ],
      "text/plain": [
       "          yr_2023        yr_2022        yr_2021        yr_2020        yr_2019  \\\n",
       "Region                                                                          \n",
       "AMERICAS    16925   16069.015157   15671.379968   14109.684516   14417.175141   \n",
       "EMEA         2514    2386.854009    2327.790206    2095.819608    2141.493548   \n",
       "N ASIA      99736   94691.834310   92348.641211   83145.849035   84957.836329   \n",
       "S ASIA     264761  251370.665995  245150.382969  220720.483439  225530.617875   \n",
       "SE ASIA    348364  330745.429609  322560.981461  290416.906164  296745.926195   \n",
       "\n",
       "                yr_2018        yr_2017        yr_2016  \n",
       "Region                                                 \n",
       "AMERICAS   13822.515598   13333.115306   12949.517462  \n",
       "EMEA        2053.164208    1980.469830    1923.491102  \n",
       "N ASIA     81453.613926   78569.665475   76309.191938  \n",
       "S ASIA    216228.245334  208572.463311  202571.769138  \n",
       "SE ASIA   284506.163890  274432.932377  266537.412171  "
      ]
     },
     "execution_count": 30,
     "metadata": {},
     "output_type": "execute_result"
    }
   ],
   "source": [
    "workers_per_year"
   ]
  },
  {
   "cell_type": "code",
   "execution_count": 31,
   "id": "630005d0-563e-4f86-a00a-ff6f22aeaf3e",
   "metadata": {},
   "outputs": [],
   "source": [
    "seed_value = 123\n",
    "np.random.seed(seed_value)"
   ]
  },
  {
   "cell_type": "code",
   "execution_count": 32,
   "id": "f7e1a61d-dc6f-4796-a667-50fa29f080c5",
   "metadata": {},
   "outputs": [],
   "source": [
    "shoe_cols = []\n",
    "for i in range(0, workers_per_year.shape[1]):\n",
    "    col = workers_per_year.columns[i]\n",
    "    workers_per_year[col] = workers_per_year[col].astype(int)\n",
    "    total_workers = workers_per_year[col].sum()\n",
    "    workers_per_year[col + '_perc'] = workers_per_year[col] / total_workers\n",
    "    workers_per_year[col + '_shoes'] = workers_per_year[col + '_perc'] * shoes_per_year[i-1]\n",
    "    workers_per_year[col + '_shoes'] = (workers_per_year[col + '_shoes'] * (1+ np.random.rand()/4)).astype(int)\n",
    "    shoe_cols.append(col + '_shoes')"
   ]
  },
  {
   "cell_type": "code",
   "execution_count": 33,
   "id": "cafbc488-693c-4406-a8f4-4dd76c720a7e",
   "metadata": {},
   "outputs": [],
   "source": [
    "perc_shoes_produced = workers_per_year[shoe_cols]/workers_per_year[shoe_cols].sum(axis =0)"
   ]
  },
  {
   "cell_type": "code",
   "execution_count": 34,
   "id": "4ba21aa2-a5dd-44e9-8894-4c17a524e5d7",
   "metadata": {},
   "outputs": [],
   "source": [
    "availability = workers_per_year[shoe_cols]\n",
    "availability.to_csv('availability.csv')"
   ]
  },
  {
   "cell_type": "code",
   "execution_count": 35,
   "id": "5bc6b5b3-c141-4272-890f-3a580ede5b7c",
   "metadata": {},
   "outputs": [
    {
     "data": {
      "text/html": [
       "<div>\n",
       "<style scoped>\n",
       "    .dataframe tbody tr th:only-of-type {\n",
       "        vertical-align: middle;\n",
       "    }\n",
       "\n",
       "    .dataframe tbody tr th {\n",
       "        vertical-align: top;\n",
       "    }\n",
       "\n",
       "    .dataframe thead th {\n",
       "        text-align: right;\n",
       "    }\n",
       "</style>\n",
       "<table border=\"1\" class=\"dataframe\">\n",
       "  <thead>\n",
       "    <tr style=\"text-align: right;\">\n",
       "      <th></th>\n",
       "      <th>yr_2023_shoes</th>\n",
       "      <th>yr_2022_shoes</th>\n",
       "      <th>yr_2021_shoes</th>\n",
       "      <th>yr_2020_shoes</th>\n",
       "      <th>yr_2019_shoes</th>\n",
       "      <th>yr_2018_shoes</th>\n",
       "      <th>yr_2017_shoes</th>\n",
       "      <th>yr_2016_shoes</th>\n",
       "    </tr>\n",
       "    <tr>\n",
       "      <th>Region</th>\n",
       "      <th></th>\n",
       "      <th></th>\n",
       "      <th></th>\n",
       "      <th></th>\n",
       "      <th></th>\n",
       "      <th></th>\n",
       "      <th></th>\n",
       "      <th></th>\n",
       "    </tr>\n",
       "  </thead>\n",
       "  <tbody>\n",
       "    <tr>\n",
       "      <th>AMERICAS</th>\n",
       "      <td>4628549</td>\n",
       "      <td>7043821</td>\n",
       "      <td>6109370</td>\n",
       "      <td>6324931</td>\n",
       "      <td>5454975</td>\n",
       "      <td>5313444</td>\n",
       "      <td>5500841</td>\n",
       "      <td>4898050</td>\n",
       "    </tr>\n",
       "    <tr>\n",
       "      <th>EMEA</th>\n",
       "      <td>687513</td>\n",
       "      <td>1045899</td>\n",
       "      <td>907185</td>\n",
       "      <td>939168</td>\n",
       "      <td>810092</td>\n",
       "      <td>789212</td>\n",
       "      <td>816895</td>\n",
       "      <td>727388</td>\n",
       "    </tr>\n",
       "    <tr>\n",
       "      <th>N ASIA</th>\n",
       "      <td>27275215</td>\n",
       "      <td>41507653</td>\n",
       "      <td>36002052</td>\n",
       "      <td>37273118</td>\n",
       "      <td>32145270</td>\n",
       "      <td>31312111</td>\n",
       "      <td>32415483</td>\n",
       "      <td>28864415</td>\n",
       "    </tr>\n",
       "    <tr>\n",
       "      <th>S ASIA</th>\n",
       "      <td>72405283</td>\n",
       "      <td>110187650</td>\n",
       "      <td>95572216</td>\n",
       "      <td>98946691</td>\n",
       "      <td>85334026</td>\n",
       "      <td>83122231</td>\n",
       "      <td>86051270</td>\n",
       "      <td>76623904</td>\n",
       "    </tr>\n",
       "    <tr>\n",
       "      <th>SE ASIA</th>\n",
       "      <td>95268541</td>\n",
       "      <td>144981558</td>\n",
       "      <td>125750659</td>\n",
       "      <td>130190750</td>\n",
       "      <td>112279721</td>\n",
       "      <td>109369617</td>\n",
       "      <td>113223358</td>\n",
       "      <td>100819493</td>\n",
       "    </tr>\n",
       "  </tbody>\n",
       "</table>\n",
       "</div>"
      ],
      "text/plain": [
       "          yr_2023_shoes  yr_2022_shoes  yr_2021_shoes  yr_2020_shoes  \\\n",
       "Region                                                                 \n",
       "AMERICAS        4628549        7043821        6109370        6324931   \n",
       "EMEA             687513        1045899         907185         939168   \n",
       "N ASIA         27275215       41507653       36002052       37273118   \n",
       "S ASIA         72405283      110187650       95572216       98946691   \n",
       "SE ASIA        95268541      144981558      125750659      130190750   \n",
       "\n",
       "          yr_2019_shoes  yr_2018_shoes  yr_2017_shoes  yr_2016_shoes  \n",
       "Region                                                                \n",
       "AMERICAS        5454975        5313444        5500841        4898050  \n",
       "EMEA             810092         789212         816895         727388  \n",
       "N ASIA         32145270       31312111       32415483       28864415  \n",
       "S ASIA         85334026       83122231       86051270       76623904  \n",
       "SE ASIA       112279721      109369617      113223358      100819493  "
      ]
     },
     "execution_count": 35,
     "metadata": {},
     "output_type": "execute_result"
    }
   ],
   "source": [
    "availability"
   ]
  },
  {
   "cell_type": "markdown",
   "id": "547211e1-1b42-4ee2-b938-eac47cd54a16",
   "metadata": {},
   "source": [
    "## 3. Get Cost Data"
   ]
  },
  {
   "cell_type": "markdown",
   "id": "7d2ed6d8-d176-45f9-924d-7e5ce5a90a49",
   "metadata": {},
   "source": [
    "### a. Cost of Sales"
   ]
  },
  {
   "cell_type": "code",
   "execution_count": 36,
   "id": "a1b88b96-3601-4c5b-9361-112edc3a85eb",
   "metadata": {},
   "outputs": [],
   "source": [
    "cost_of_sales = pd.read_excel('CostOfSales.xlsx')"
   ]
  },
  {
   "cell_type": "code",
   "execution_count": 37,
   "id": "f88e7dec-4768-45cc-91bb-680659b49e93",
   "metadata": {},
   "outputs": [],
   "source": [
    "cost_of_sales = cost_of_sales[['Year', 'Shoes - Cost of Sales ($M)']]\n",
    "cost_of_sales = cost_of_sales.rename(columns = {'Shoes - Cost of Sales ($M)' : 'Cost_of_Sales_shoes_m'})"
   ]
  },
  {
   "cell_type": "markdown",
   "id": "1102b26c-eea9-44fd-b0f9-40f17c4b6eea",
   "metadata": {},
   "source": [
    "### b. Inventory Costs"
   ]
  },
  {
   "cell_type": "code",
   "execution_count": 38,
   "id": "d70fdd48-c8a0-4570-9a2f-8a5ebcb377dd",
   "metadata": {},
   "outputs": [],
   "source": [
    "inventory_cost = pd.read_excel('inventory_cost.xlsx')"
   ]
  },
  {
   "cell_type": "code",
   "execution_count": 39,
   "id": "d85d4e9c-e2ee-4b36-bcd4-a55086d2b443",
   "metadata": {},
   "outputs": [
    {
     "name": "stderr",
     "output_type": "stream",
     "text": [
      "/var/folders/56/bfw_b7050wxcy69jmv2db0040000gn/T/ipykernel_50170/3194163411.py:5: SettingWithCopyWarning: \n",
      "A value is trying to be set on a copy of a slice from a DataFrame.\n",
      "Try using .loc[row_indexer,col_indexer] = value instead\n",
      "\n",
      "See the caveats in the documentation: https://pandas.pydata.org/pandas-docs/stable/user_guide/indexing.html#returning-a-view-versus-a-copy\n",
      "  apac_latam['Asia Pacific'] = apac_latam['Inventory Costs'] * apac_gdp_perc\n",
      "/var/folders/56/bfw_b7050wxcy69jmv2db0040000gn/T/ipykernel_50170/3194163411.py:6: SettingWithCopyWarning: \n",
      "A value is trying to be set on a copy of a slice from a DataFrame.\n",
      "Try using .loc[row_indexer,col_indexer] = value instead\n",
      "\n",
      "See the caveats in the documentation: https://pandas.pydata.org/pandas-docs/stable/user_guide/indexing.html#returning-a-view-versus-a-copy\n",
      "  apac_latam['Latin America'] = apac_latam['Inventory Costs'] * latam_gdp_perc\n"
     ]
    }
   ],
   "source": [
    "#Split Asia Pacific and Latin America into Separate Regions\n",
    "apac_latam = inventory_cost[inventory_cost['Region'] == 'Asia Pacific & Latin America']\n",
    "apac_gdp_perc = 0.733 #looked up online\n",
    "latam_gdp_perc = 1 - apac_gdp_perc\n",
    "apac_latam['Asia Pacific'] = apac_latam['Inventory Costs'] * apac_gdp_perc\n",
    "apac_latam['Latin America'] = apac_latam['Inventory Costs'] * latam_gdp_perc\n",
    "apac_latam = apac_latam.drop(columns = ['Region','Inventory Costs'])\n",
    "apac_latam = pd.melt(apac_latam, id_vars='Year', var_name='Region', value_name='Inventory Costs')\n",
    "#re-join it\n",
    "inventory_cost = inventory_cost[inventory_cost['Region'] != 'Asia Pacific & Latin America']\n",
    "inventory_cost = pd.concat([inventory_cost, apac_latam], ignore_index=True, axis=0)"
   ]
  },
  {
   "cell_type": "markdown",
   "id": "d966f1a0-0c3a-451c-b775-3c20e1d43be1",
   "metadata": {},
   "source": [
    "### c. Get Costs"
   ]
  },
  {
   "cell_type": "code",
   "execution_count": 40,
   "id": "0b6264fb-c890-4ceb-8b32-4792f9a2bd59",
   "metadata": {},
   "outputs": [],
   "source": [
    "costs = inventory_cost.merge(cost_of_sales,\n",
    "                             how = 'inner',\n",
    "                             on = 'Year')"
   ]
  },
  {
   "cell_type": "code",
   "execution_count": 41,
   "id": "e5cc1234-64ce-4ad8-96df-79aa93b602c4",
   "metadata": {},
   "outputs": [],
   "source": [
    "perc = revenue[['Year', 'Region', 'perc_rev_footware', 'perc_rev_in_region']]"
   ]
  },
  {
   "cell_type": "code",
   "execution_count": 42,
   "id": "5394eb22-30bd-4b65-9fe6-1f5ea7ad3d21",
   "metadata": {},
   "outputs": [],
   "source": [
    "costs = costs.merge(perc,\n",
    "                    how = 'inner',\n",
    "                    on = ['Year', 'Region'])"
   ]
  },
  {
   "cell_type": "code",
   "execution_count": 43,
   "id": "5ade0d8d-e160-4196-9bfb-0deb26c517b9",
   "metadata": {},
   "outputs": [],
   "source": [
    "costs['cost_of_sales_shoes_region'] = costs['Cost_of_Sales_shoes_m'] * costs['perc_rev_footware'] * costs['perc_rev_in_region']\n",
    "costs['inventory_costs_shoes'] = costs['Inventory Costs'] * costs['perc_rev_footware']"
   ]
  },
  {
   "cell_type": "code",
   "execution_count": null,
   "id": "602d2dde-1d76-4042-b8e5-20d1ba4c174a",
   "metadata": {},
   "outputs": [],
   "source": []
  },
  {
   "cell_type": "code",
   "execution_count": null,
   "id": "cf459830-4746-4bf2-975a-23d83a4c90eb",
   "metadata": {},
   "outputs": [],
   "source": []
  },
  {
   "cell_type": "code",
   "execution_count": 44,
   "id": "32f341ac-3f7a-4f76-8b01-e116c97bcbd5",
   "metadata": {},
   "outputs": [],
   "source": [
    "costs = costs.drop(columns = ['Inventory Costs', \n",
    "                              'Cost_of_Sales_shoes_m', \n",
    "                              'perc_rev_footware', \n",
    "                              'perc_rev_in_region'])"
   ]
  },
  {
   "cell_type": "code",
   "execution_count": 45,
   "id": "0b717b69-2b84-42f3-b3ed-7f7593736b0c",
   "metadata": {},
   "outputs": [],
   "source": [
    "costs = costs.rename(columns = {'inventory_costs_shoes' : 'inventory_costs',\n",
    "                               'cost_of_sales_shoes_region': 'cost_of_sales'})"
   ]
  },
  {
   "cell_type": "code",
   "execution_count": 46,
   "id": "ad8f0e67-c703-4f49-a012-2bfa637a7090",
   "metadata": {},
   "outputs": [
    {
     "name": "stdout",
     "output_type": "stream",
     "text": [
      "[2023, 2022, 2021, 2020, 2019, 2018, 2017, 2016]\n"
     ]
    }
   ],
   "source": [
    "time = list(costs['Year'].unique())\n",
    "print(time)"
   ]
  },
  {
   "cell_type": "code",
   "execution_count": 47,
   "id": "992f89aa-e8ae-4e9a-9aa9-413d190df415",
   "metadata": {},
   "outputs": [],
   "source": [
    "time_holding_perc = []\n",
    "for i in range(0, len(time)):\n",
    "    time_holding_perc.append(np.random.rand()/10 + 0.2)"
   ]
  },
  {
   "cell_type": "code",
   "execution_count": 48,
   "id": "5fd1ab51-6191-4ee6-b3bc-ff44d79346a6",
   "metadata": {},
   "outputs": [],
   "source": [
    "holding_cost_perc = pd.DataFrame({'Year': time, 'Hold_Cost_perc': time_holding_perc})"
   ]
  },
  {
   "cell_type": "code",
   "execution_count": 49,
   "id": "adf3ae14-4c3f-4f1b-8246-a5d354c2bce1",
   "metadata": {},
   "outputs": [],
   "source": [
    "costs = costs.merge(holding_cost_perc,\n",
    "                    how = 'inner',\n",
    "                    on = 'Year')"
   ]
  },
  {
   "cell_type": "code",
   "execution_count": 50,
   "id": "aa90041f-fca1-4b0d-b709-32d1a3400a39",
   "metadata": {},
   "outputs": [],
   "source": [
    "costs['inventory_costs_holding'] = costs['inventory_costs'] * costs['Hold_Cost_perc']\n",
    "costs['inventory_costs_goods'] = costs['inventory_costs'] * (1 - costs['Hold_Cost_perc'])"
   ]
  },
  {
   "cell_type": "code",
   "execution_count": 51,
   "id": "be79e0bc-d36a-4864-b11d-80e852b4557a",
   "metadata": {},
   "outputs": [],
   "source": [
    "costs['shoes_in_inventory'] = costs['inventory_costs_goods'] * 1e6 / avg_cost_shoes"
   ]
  },
  {
   "cell_type": "code",
   "execution_count": 52,
   "id": "aecb7b30-1798-49ba-831a-a92f97b77a76",
   "metadata": {},
   "outputs": [],
   "source": [
    "costs['holding_cost_per_shoe'] = costs['inventory_costs_holding'] * 1e6 / costs['shoes_in_inventory']\n",
    "costs['holding_cost_per_shoe'] = costs['holding_cost_per_shoe'].round(decimals = 2)"
   ]
  },
  {
   "cell_type": "code",
   "execution_count": 54,
   "id": "eb3ded8e-38f3-4b5e-93c5-06cd6fcd9dcb",
   "metadata": {},
   "outputs": [],
   "source": [
    "inventory_holding_cost = costs[['Year', 'holding_cost_per_shoe']].groupby('Year').mean().reset_index()"
   ]
  },
  {
   "cell_type": "code",
   "execution_count": 55,
   "id": "38b1e7d5-222f-44a6-804b-458a271aa81a",
   "metadata": {},
   "outputs": [],
   "source": [
    "inventory_holding_cost.to_csv('inventory_holding_cost.csv')"
   ]
  },
  {
   "cell_type": "code",
   "execution_count": 56,
   "id": "05de696a-8565-4235-b93a-8bc81094bd6f",
   "metadata": {},
   "outputs": [],
   "source": [
    "cost_output = costs[['Year', 'Region', 'cost_of_sales']]\n",
    "cost_output = cost_output.pivot(index='Region', columns='Year', values='cost_of_sales')\n",
    "cost_output.to_csv('cost.csv')"
   ]
  },
  {
   "cell_type": "code",
   "execution_count": 57,
   "id": "307cbdd7-4f4b-4388-84bb-5006254fcd0a",
   "metadata": {},
   "outputs": [
    {
     "data": {
      "text/plain": [
       "array([13387.52275797, 10902.57649105, 11240.26333679,  9100.57762775,\n",
       "        9187.81284545,  8566.89473732,  8180.34572968,  7419.85471734])"
      ]
     },
     "execution_count": 57,
     "metadata": {},
     "output_type": "execute_result"
    }
   ],
   "source": [
    "costs_year = costs[['Year', 'cost_of_sales']].groupby('Year').sum().reset_index()\n",
    "costs_year = costs_year.sort_values('Year', ascending = False)\n",
    "costs_year.head()\n",
    "sales = np.array(costs_year['cost_of_sales'])\n",
    "sales"
   ]
  },
  {
   "cell_type": "code",
   "execution_count": 58,
   "id": "cdf3818c-f1c3-42de-adf7-6b749e663d24",
   "metadata": {},
   "outputs": [],
   "source": [
    "final_df = perc_shoes_produced.copy()\n",
    "for i in range(0,perc_shoes_produced.shape[1]):\n",
    "    col = final_df.columns[i]\n",
    "    final_df[col] = final_df[col] * sales[i] * 1e6\n",
    "final_df = final_df / availability             "
   ]
  },
  {
   "cell_type": "code",
   "execution_count": 59,
   "id": "c3781cb5-3004-46d9-a70b-49171e049a06",
   "metadata": {},
   "outputs": [
    {
     "data": {
      "text/html": [
       "<div>\n",
       "<style scoped>\n",
       "    .dataframe tbody tr th:only-of-type {\n",
       "        vertical-align: middle;\n",
       "    }\n",
       "\n",
       "    .dataframe tbody tr th {\n",
       "        vertical-align: top;\n",
       "    }\n",
       "\n",
       "    .dataframe thead th {\n",
       "        text-align: right;\n",
       "    }\n",
       "</style>\n",
       "<table border=\"1\" class=\"dataframe\">\n",
       "  <thead>\n",
       "    <tr style=\"text-align: right;\">\n",
       "      <th></th>\n",
       "      <th>yr_2023_shoes</th>\n",
       "      <th>yr_2022_shoes</th>\n",
       "      <th>yr_2021_shoes</th>\n",
       "      <th>yr_2020_shoes</th>\n",
       "      <th>yr_2019_shoes</th>\n",
       "      <th>yr_2018_shoes</th>\n",
       "      <th>yr_2017_shoes</th>\n",
       "      <th>yr_2016_shoes</th>\n",
       "    </tr>\n",
       "    <tr>\n",
       "      <th>Region</th>\n",
       "      <th></th>\n",
       "      <th></th>\n",
       "      <th></th>\n",
       "      <th></th>\n",
       "      <th></th>\n",
       "      <th></th>\n",
       "      <th></th>\n",
       "      <th></th>\n",
       "    </tr>\n",
       "  </thead>\n",
       "  <tbody>\n",
       "    <tr>\n",
       "      <th>AMERICAS</th>\n",
       "      <td>66.849005</td>\n",
       "      <td>35.77353</td>\n",
       "      <td>42.521753</td>\n",
       "      <td>33.253271</td>\n",
       "      <td>38.927438</td>\n",
       "      <td>37.262498</td>\n",
       "      <td>34.370067</td>\n",
       "      <td>35.010338</td>\n",
       "    </tr>\n",
       "    <tr>\n",
       "      <th>EMEA</th>\n",
       "      <td>66.849005</td>\n",
       "      <td>35.77353</td>\n",
       "      <td>42.521753</td>\n",
       "      <td>33.253271</td>\n",
       "      <td>38.927438</td>\n",
       "      <td>37.262498</td>\n",
       "      <td>34.370067</td>\n",
       "      <td>35.010338</td>\n",
       "    </tr>\n",
       "    <tr>\n",
       "      <th>N ASIA</th>\n",
       "      <td>66.849005</td>\n",
       "      <td>35.77353</td>\n",
       "      <td>42.521753</td>\n",
       "      <td>33.253271</td>\n",
       "      <td>38.927438</td>\n",
       "      <td>37.262498</td>\n",
       "      <td>34.370067</td>\n",
       "      <td>35.010338</td>\n",
       "    </tr>\n",
       "    <tr>\n",
       "      <th>S ASIA</th>\n",
       "      <td>66.849005</td>\n",
       "      <td>35.77353</td>\n",
       "      <td>42.521753</td>\n",
       "      <td>33.253271</td>\n",
       "      <td>38.927438</td>\n",
       "      <td>37.262498</td>\n",
       "      <td>34.370067</td>\n",
       "      <td>35.010338</td>\n",
       "    </tr>\n",
       "    <tr>\n",
       "      <th>SE ASIA</th>\n",
       "      <td>66.849005</td>\n",
       "      <td>35.77353</td>\n",
       "      <td>42.521753</td>\n",
       "      <td>33.253271</td>\n",
       "      <td>38.927438</td>\n",
       "      <td>37.262498</td>\n",
       "      <td>34.370067</td>\n",
       "      <td>35.010338</td>\n",
       "    </tr>\n",
       "  </tbody>\n",
       "</table>\n",
       "</div>"
      ],
      "text/plain": [
       "          yr_2023_shoes  yr_2022_shoes  yr_2021_shoes  yr_2020_shoes  \\\n",
       "Region                                                                 \n",
       "AMERICAS      66.849005       35.77353      42.521753      33.253271   \n",
       "EMEA          66.849005       35.77353      42.521753      33.253271   \n",
       "N ASIA        66.849005       35.77353      42.521753      33.253271   \n",
       "S ASIA        66.849005       35.77353      42.521753      33.253271   \n",
       "SE ASIA       66.849005       35.77353      42.521753      33.253271   \n",
       "\n",
       "          yr_2019_shoes  yr_2018_shoes  yr_2017_shoes  yr_2016_shoes  \n",
       "Region                                                                \n",
       "AMERICAS      38.927438      37.262498      34.370067      35.010338  \n",
       "EMEA          38.927438      37.262498      34.370067      35.010338  \n",
       "N ASIA        38.927438      37.262498      34.370067      35.010338  \n",
       "S ASIA        38.927438      37.262498      34.370067      35.010338  \n",
       "SE ASIA       38.927438      37.262498      34.370067      35.010338  "
      ]
     },
     "execution_count": 59,
     "metadata": {},
     "output_type": "execute_result"
    }
   ],
   "source": [
    "final_df.head()"
   ]
  },
  {
   "cell_type": "code",
   "execution_count": 62,
   "id": "412f07fe-d526-48b1-a604-59e647facf26",
   "metadata": {},
   "outputs": [],
   "source": [
    "np.random.seed(123)\n",
    "for i in range(0, final_df.shape[0]):\n",
    "    for j in range(0, final_df.shape[1]):\n",
    "        #np.random.seed(i+j)\n",
    "        final_df.iloc[i,j] = final_df.iloc[i,j] * (1+ np.random.rand()/5)\n"
   ]
  },
  {
   "cell_type": "code",
   "execution_count": 63,
   "id": "c16aa0bc-c9c8-4a21-a9a4-19d47ca6dcae",
   "metadata": {},
   "outputs": [
    {
     "data": {
      "text/html": [
       "<div>\n",
       "<style scoped>\n",
       "    .dataframe tbody tr th:only-of-type {\n",
       "        vertical-align: middle;\n",
       "    }\n",
       "\n",
       "    .dataframe tbody tr th {\n",
       "        vertical-align: top;\n",
       "    }\n",
       "\n",
       "    .dataframe thead th {\n",
       "        text-align: right;\n",
       "    }\n",
       "</style>\n",
       "<table border=\"1\" class=\"dataframe\">\n",
       "  <thead>\n",
       "    <tr style=\"text-align: right;\">\n",
       "      <th></th>\n",
       "      <th>yr_2023_shoes</th>\n",
       "      <th>yr_2022_shoes</th>\n",
       "      <th>yr_2021_shoes</th>\n",
       "      <th>yr_2020_shoes</th>\n",
       "      <th>yr_2019_shoes</th>\n",
       "      <th>yr_2018_shoes</th>\n",
       "      <th>yr_2017_shoes</th>\n",
       "      <th>yr_2016_shoes</th>\n",
       "    </tr>\n",
       "    <tr>\n",
       "      <th>Region</th>\n",
       "      <th></th>\n",
       "      <th></th>\n",
       "      <th></th>\n",
       "      <th></th>\n",
       "      <th></th>\n",
       "      <th></th>\n",
       "      <th></th>\n",
       "      <th></th>\n",
       "    </tr>\n",
       "  </thead>\n",
       "  <tbody>\n",
       "    <tr>\n",
       "      <th>AMERICAS</th>\n",
       "      <td>81.465015</td>\n",
       "      <td>38.902974</td>\n",
       "      <td>45.459355</td>\n",
       "      <td>38.955322</td>\n",
       "      <td>47.732567</td>\n",
       "      <td>42.125713</td>\n",
       "      <td>45.143957</td>\n",
       "      <td>42.531565</td>\n",
       "    </tr>\n",
       "    <tr>\n",
       "      <th>EMEA</th>\n",
       "      <td>76.803188</td>\n",
       "      <td>40.091767</td>\n",
       "      <td>46.999670</td>\n",
       "      <td>40.879749</td>\n",
       "      <td>44.198936</td>\n",
       "      <td>37.932276</td>\n",
       "      <td>38.583221</td>\n",
       "      <td>43.142937</td>\n",
       "    </tr>\n",
       "    <tr>\n",
       "      <th>N ASIA</th>\n",
       "      <td>70.553348</td>\n",
       "      <td>37.678513</td>\n",
       "      <td>49.542790</td>\n",
       "      <td>38.746881</td>\n",
       "      <td>46.649457</td>\n",
       "      <td>47.295806</td>\n",
       "      <td>42.200713</td>\n",
       "      <td>41.689402</td>\n",
       "    </tr>\n",
       "    <tr>\n",
       "      <th>S ASIA</th>\n",
       "      <td>82.035194</td>\n",
       "      <td>39.314170</td>\n",
       "      <td>47.248234</td>\n",
       "      <td>35.565074</td>\n",
       "      <td>42.424662</td>\n",
       "      <td>44.612729</td>\n",
       "      <td>35.325595</td>\n",
       "      <td>39.697252</td>\n",
       "    </tr>\n",
       "    <tr>\n",
       "      <th>SE ASIA</th>\n",
       "      <td>75.738030</td>\n",
       "      <td>41.246166</td>\n",
       "      <td>48.108079</td>\n",
       "      <td>36.433232</td>\n",
       "      <td>44.047988</td>\n",
       "      <td>47.844288</td>\n",
       "      <td>44.718096</td>\n",
       "      <td>40.457520</td>\n",
       "    </tr>\n",
       "  </tbody>\n",
       "</table>\n",
       "</div>"
      ],
      "text/plain": [
       "          yr_2023_shoes  yr_2022_shoes  yr_2021_shoes  yr_2020_shoes  \\\n",
       "Region                                                                 \n",
       "AMERICAS      81.465015      38.902974      45.459355      38.955322   \n",
       "EMEA          76.803188      40.091767      46.999670      40.879749   \n",
       "N ASIA        70.553348      37.678513      49.542790      38.746881   \n",
       "S ASIA        82.035194      39.314170      47.248234      35.565074   \n",
       "SE ASIA       75.738030      41.246166      48.108079      36.433232   \n",
       "\n",
       "          yr_2019_shoes  yr_2018_shoes  yr_2017_shoes  yr_2016_shoes  \n",
       "Region                                                                \n",
       "AMERICAS      47.732567      42.125713      45.143957      42.531565  \n",
       "EMEA          44.198936      37.932276      38.583221      43.142937  \n",
       "N ASIA        46.649457      47.295806      42.200713      41.689402  \n",
       "S ASIA        42.424662      44.612729      35.325595      39.697252  \n",
       "SE ASIA       44.047988      47.844288      44.718096      40.457520  "
      ]
     },
     "execution_count": 63,
     "metadata": {},
     "output_type": "execute_result"
    }
   ],
   "source": [
    "final_df"
   ]
  },
  {
   "cell_type": "code",
   "execution_count": 64,
   "id": "86c68d27-cd7f-4101-a77a-a086fd5ebde3",
   "metadata": {},
   "outputs": [],
   "source": [
    "final_df.to_csv('cost.csv')"
   ]
  },
  {
   "cell_type": "code",
   "execution_count": 65,
   "id": "6f850103-a55a-4825-80a9-d03abbcc2824",
   "metadata": {},
   "outputs": [
    {
     "data": {
      "text/plain": [
       "1.1559882379480277"
      ]
     },
     "execution_count": 65,
     "metadata": {},
     "output_type": "execute_result"
    }
   ],
   "source": [
    "(1+ np.random.rand()/4)"
   ]
  },
  {
   "cell_type": "code",
   "execution_count": null,
   "id": "733b975c-c983-4e28-8290-70b492f5de91",
   "metadata": {},
   "outputs": [],
   "source": []
  }
 ],
 "metadata": {
  "kernelspec": {
   "display_name": "Python 3 (ipykernel)",
   "language": "python",
   "name": "python3"
  },
  "language_info": {
   "codemirror_mode": {
    "name": "ipython",
    "version": 3
   },
   "file_extension": ".py",
   "mimetype": "text/x-python",
   "name": "python",
   "nbconvert_exporter": "python",
   "pygments_lexer": "ipython3",
   "version": "3.10.12"
  }
 },
 "nbformat": 4,
 "nbformat_minor": 5
}
